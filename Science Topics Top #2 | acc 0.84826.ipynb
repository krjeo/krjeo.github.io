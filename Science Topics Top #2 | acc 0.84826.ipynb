{
  "cells": [
    {
      "cell_type": "code",
      "execution_count": null,
      "id": "d2885c76",
      "metadata": {
        "execution": {
          "iopub.execute_input": "2022-12-16T16:37:33.121596Z",
          "iopub.status.busy": "2022-12-16T16:37:33.121025Z",
          "iopub.status.idle": "2022-12-16T16:38:12.234895Z",
          "shell.execute_reply": "2022-12-16T16:38:12.233666Z"
        },
        "papermill": {
          "duration": 39.124688,
          "end_time": "2022-12-16T16:38:12.237650",
          "exception": false,
          "start_time": "2022-12-16T16:37:33.112962",
          "status": "completed"
        },
        "tags": [],
        "id": "d2885c76",
        "outputId": "5f412a13-9f1d-4954-8410-7f1922bf099b"
      },
      "outputs": [
        {
          "name": "stdout",
          "output_type": "stream",
          "text": [
            "Requirement already satisfied: transformers in /opt/conda/lib/python3.7/site-packages (4.20.1)\r\n",
            "Collecting transformers\r\n",
            "  Downloading transformers-4.25.1-py3-none-any.whl (5.8 MB)\r\n",
            "\u001b[2K     \u001b[90m━━━━━━━━━━━━━━━━━━━━━━━━━━━━━━━━━━━━━━━━\u001b[0m \u001b[32m5.8/5.8 MB\u001b[0m \u001b[31m7.6 MB/s\u001b[0m eta \u001b[36m0:00:00\u001b[0m\r\n",
            "\u001b[?25hRequirement already satisfied: pyyaml>=5.1 in /opt/conda/lib/python3.7/site-packages (from transformers) (6.0)\r\n",
            "Requirement already satisfied: tokenizers!=0.11.3,<0.14,>=0.11.1 in /opt/conda/lib/python3.7/site-packages (from transformers) (0.12.1)\r\n",
            "Requirement already satisfied: huggingface-hub<1.0,>=0.10.0 in /opt/conda/lib/python3.7/site-packages (from transformers) (0.10.1)\r\n",
            "Requirement already satisfied: regex!=2019.12.17 in /opt/conda/lib/python3.7/site-packages (from transformers) (2021.11.10)\r\n",
            "Requirement already satisfied: filelock in /opt/conda/lib/python3.7/site-packages (from transformers) (3.7.1)\r\n",
            "Requirement already satisfied: importlib-metadata in /opt/conda/lib/python3.7/site-packages (from transformers) (4.13.0)\r\n",
            "Requirement already satisfied: tqdm>=4.27 in /opt/conda/lib/python3.7/site-packages (from transformers) (4.64.0)\r\n",
            "Requirement already satisfied: requests in /opt/conda/lib/python3.7/site-packages (from transformers) (2.28.1)\r\n",
            "Requirement already satisfied: numpy>=1.17 in /opt/conda/lib/python3.7/site-packages (from transformers) (1.21.6)\r\n",
            "Requirement already satisfied: packaging>=20.0 in /opt/conda/lib/python3.7/site-packages (from transformers) (21.3)\r\n",
            "Requirement already satisfied: typing-extensions>=3.7.4.3 in /opt/conda/lib/python3.7/site-packages (from huggingface-hub<1.0,>=0.10.0->transformers) (4.1.1)\r\n",
            "Requirement already satisfied: pyparsing!=3.0.5,>=2.0.2 in /opt/conda/lib/python3.7/site-packages (from packaging>=20.0->transformers) (3.0.9)\r\n",
            "Requirement already satisfied: zipp>=0.5 in /opt/conda/lib/python3.7/site-packages (from importlib-metadata->transformers) (3.8.0)\r\n",
            "Requirement already satisfied: certifi>=2017.4.17 in /opt/conda/lib/python3.7/site-packages (from requests->transformers) (2022.9.24)\r\n",
            "Requirement already satisfied: urllib3<1.27,>=1.21.1 in /opt/conda/lib/python3.7/site-packages (from requests->transformers) (1.26.12)\r\n",
            "Requirement already satisfied: idna<4,>=2.5 in /opt/conda/lib/python3.7/site-packages (from requests->transformers) (3.3)\r\n",
            "Requirement already satisfied: charset-normalizer<3,>=2 in /opt/conda/lib/python3.7/site-packages (from requests->transformers) (2.1.0)\r\n",
            "Installing collected packages: transformers\r\n",
            "  Attempting uninstall: transformers\r\n",
            "    Found existing installation: transformers 4.20.1\r\n",
            "    Uninstalling transformers-4.20.1:\r\n",
            "      Successfully uninstalled transformers-4.20.1\r\n",
            "\u001b[31mERROR: pip's dependency resolver does not currently take into account all the packages that are installed. This behaviour is the source of the following dependency conflicts.\r\n",
            "allennlp 2.10.1 requires transformers<4.21,>=4.1, but you have transformers 4.25.1 which is incompatible.\u001b[0m\u001b[31m\r\n",
            "\u001b[0mSuccessfully installed transformers-4.25.1\r\n",
            "\u001b[33mWARNING: Running pip as the 'root' user can result in broken permissions and conflicting behaviour with the system package manager. It is recommended to use a virtual environment instead: https://pip.pypa.io/warnings/venv\u001b[0m\u001b[33m\r\n",
            "\u001b[0mCollecting simpletransformers\r\n",
            "  Downloading simpletransformers-0.63.9-py3-none-any.whl (250 kB)\r\n",
            "\u001b[2K     \u001b[90m━━━━━━━━━━━━━━━━━━━━━━━━━━━━━━━━━━━━━\u001b[0m \u001b[32m250.5/250.5 kB\u001b[0m \u001b[31m912.5 kB/s\u001b[0m eta \u001b[36m0:00:00\u001b[0m\r\n",
            "\u001b[?25hRequirement already satisfied: scipy in /opt/conda/lib/python3.7/site-packages (from simpletransformers) (1.7.3)\r\n",
            "Requirement already satisfied: tensorboard in /opt/conda/lib/python3.7/site-packages (from simpletransformers) (2.10.1)\r\n",
            "Requirement already satisfied: sentencepiece in /opt/conda/lib/python3.7/site-packages (from simpletransformers) (0.1.97)\r\n",
            "Requirement already satisfied: pandas in /opt/conda/lib/python3.7/site-packages (from simpletransformers) (1.3.5)\r\n",
            "Requirement already satisfied: regex in /opt/conda/lib/python3.7/site-packages (from simpletransformers) (2021.11.10)\r\n",
            "Requirement already satisfied: numpy in /opt/conda/lib/python3.7/site-packages (from simpletransformers) (1.21.6)\r\n",
            "Requirement already satisfied: scikit-learn in /opt/conda/lib/python3.7/site-packages (from simpletransformers) (1.0.2)\r\n",
            "Collecting seqeval\r\n",
            "  Downloading seqeval-1.2.2.tar.gz (43 kB)\r\n",
            "\u001b[2K     \u001b[90m━━━━━━━━━━━━━━━━━━━━━━━━━━━━━━━━━━━━━━━━\u001b[0m \u001b[32m43.6/43.6 kB\u001b[0m \u001b[31m3.2 MB/s\u001b[0m eta \u001b[36m0:00:00\u001b[0m\r\n",
            "\u001b[?25h  Preparing metadata (setup.py) ... \u001b[?25l-\b \bdone\r\n",
            "\u001b[?25hRequirement already satisfied: wandb>=0.10.32 in /opt/conda/lib/python3.7/site-packages (from simpletransformers) (0.12.21)\r\n",
            "Requirement already satisfied: requests in /opt/conda/lib/python3.7/site-packages (from simpletransformers) (2.28.1)\r\n",
            "Requirement already satisfied: datasets in /opt/conda/lib/python3.7/site-packages (from simpletransformers) (2.1.0)\r\n",
            "Requirement already satisfied: tqdm>=4.47.0 in /opt/conda/lib/python3.7/site-packages (from simpletransformers) (4.64.0)\r\n",
            "Requirement already satisfied: tokenizers in /opt/conda/lib/python3.7/site-packages (from simpletransformers) (0.12.1)\r\n",
            "Requirement already satisfied: transformers>=4.6.0 in /opt/conda/lib/python3.7/site-packages (from simpletransformers) (4.25.1)\r\n",
            "Collecting streamlit\r\n",
            "  Downloading streamlit-1.16.0-py2.py3-none-any.whl (9.2 MB)\r\n",
            "\u001b[2K     \u001b[90m━━━━━━━━━━━━━━━━━━━━━━━━━━━━━━━━━━━━━━━━\u001b[0m \u001b[32m9.2/9.2 MB\u001b[0m \u001b[31m15.0 MB/s\u001b[0m eta \u001b[36m0:00:00\u001b[0m\r\n",
            "\u001b[?25hRequirement already satisfied: importlib-metadata in /opt/conda/lib/python3.7/site-packages (from transformers>=4.6.0->simpletransformers) (4.13.0)\r\n",
            "Requirement already satisfied: filelock in /opt/conda/lib/python3.7/site-packages (from transformers>=4.6.0->simpletransformers) (3.7.1)\r\n",
            "Requirement already satisfied: packaging>=20.0 in /opt/conda/lib/python3.7/site-packages (from transformers>=4.6.0->simpletransformers) (21.3)\r\n",
            "Requirement already satisfied: huggingface-hub<1.0,>=0.10.0 in /opt/conda/lib/python3.7/site-packages (from transformers>=4.6.0->simpletransformers) (0.10.1)\r\n",
            "Requirement already satisfied: pyyaml>=5.1 in /opt/conda/lib/python3.7/site-packages (from transformers>=4.6.0->simpletransformers) (6.0)\r\n",
            "Requirement already satisfied: setuptools in /opt/conda/lib/python3.7/site-packages (from wandb>=0.10.32->simpletransformers) (59.8.0)\r\n",
            "Requirement already satisfied: shortuuid>=0.5.0 in /opt/conda/lib/python3.7/site-packages (from wandb>=0.10.32->simpletransformers) (1.0.9)\r\n",
            "Requirement already satisfied: docker-pycreds>=0.4.0 in /opt/conda/lib/python3.7/site-packages (from wandb>=0.10.32->simpletransformers) (0.4.0)\r\n",
            "Requirement already satisfied: Click!=8.0.0,>=7.0 in /opt/conda/lib/python3.7/site-packages (from wandb>=0.10.32->simpletransformers) (8.0.4)\r\n",
            "Requirement already satisfied: sentry-sdk>=1.0.0 in /opt/conda/lib/python3.7/site-packages (from wandb>=0.10.32->simpletransformers) (1.9.10)\r\n",
            "Requirement already satisfied: GitPython>=1.0.0 in /opt/conda/lib/python3.7/site-packages (from wandb>=0.10.32->simpletransformers) (3.1.27)\r\n",
            "Requirement already satisfied: six>=1.13.0 in /opt/conda/lib/python3.7/site-packages (from wandb>=0.10.32->simpletransformers) (1.15.0)\r\n",
            "Requirement already satisfied: psutil>=5.0.0 in /opt/conda/lib/python3.7/site-packages (from wandb>=0.10.32->simpletransformers) (5.9.1)\r\n",
            "Requirement already satisfied: pathtools in /opt/conda/lib/python3.7/site-packages (from wandb>=0.10.32->simpletransformers) (0.1.2)\r\n",
            "Requirement already satisfied: setproctitle in /opt/conda/lib/python3.7/site-packages (from wandb>=0.10.32->simpletransformers) (1.3.2)\r\n",
            "Requirement already satisfied: promise<3,>=2.0 in /opt/conda/lib/python3.7/site-packages (from wandb>=0.10.32->simpletransformers) (2.3)\r\n",
            "Requirement already satisfied: protobuf<4.0dev,>=3.12.0 in /opt/conda/lib/python3.7/site-packages (from wandb>=0.10.32->simpletransformers) (3.19.4)\r\n",
            "Requirement already satisfied: certifi>=2017.4.17 in /opt/conda/lib/python3.7/site-packages (from requests->simpletransformers) (2022.9.24)\r\n",
            "Requirement already satisfied: urllib3<1.27,>=1.21.1 in /opt/conda/lib/python3.7/site-packages (from requests->simpletransformers) (1.26.12)\r\n",
            "Requirement already satisfied: idna<4,>=2.5 in /opt/conda/lib/python3.7/site-packages (from requests->simpletransformers) (3.3)\r\n",
            "Requirement already satisfied: charset-normalizer<3,>=2 in /opt/conda/lib/python3.7/site-packages (from requests->simpletransformers) (2.1.0)\r\n",
            "Requirement already satisfied: xxhash in /opt/conda/lib/python3.7/site-packages (from datasets->simpletransformers) (3.0.0)\r\n",
            "Requirement already satisfied: fsspec[http]>=2021.05.0 in /opt/conda/lib/python3.7/site-packages (from datasets->simpletransformers) (2022.8.2)\r\n",
            "Requirement already satisfied: responses<0.19 in /opt/conda/lib/python3.7/site-packages (from datasets->simpletransformers) (0.18.0)\r\n",
            "Requirement already satisfied: multiprocess in /opt/conda/lib/python3.7/site-packages (from datasets->simpletransformers) (0.70.13)\r\n",
            "Requirement already satisfied: aiohttp in /opt/conda/lib/python3.7/site-packages (from datasets->simpletransformers) (3.8.1)\r\n",
            "Requirement already satisfied: pyarrow>=5.0.0 in /opt/conda/lib/python3.7/site-packages (from datasets->simpletransformers) (5.0.0)\r\n",
            "Requirement already satisfied: dill in /opt/conda/lib/python3.7/site-packages (from datasets->simpletransformers) (0.3.5.1)\r\n",
            "Requirement already satisfied: python-dateutil>=2.7.3 in /opt/conda/lib/python3.7/site-packages (from pandas->simpletransformers) (2.8.2)\r\n",
            "Requirement already satisfied: pytz>=2017.3 in /opt/conda/lib/python3.7/site-packages (from pandas->simpletransformers) (2022.1)\r\n",
            "Requirement already satisfied: joblib>=0.11 in /opt/conda/lib/python3.7/site-packages (from scikit-learn->simpletransformers) (1.0.1)\r\n",
            "Requirement already satisfied: threadpoolctl>=2.0.0 in /opt/conda/lib/python3.7/site-packages (from scikit-learn->simpletransformers) (3.1.0)\r\n",
            "Requirement already satisfied: altair>=3.2.0 in /opt/conda/lib/python3.7/site-packages (from streamlit->simpletransformers) (4.2.0)\r\n",
            "Requirement already satisfied: semver in /opt/conda/lib/python3.7/site-packages (from streamlit->simpletransformers) (2.13.0)\r\n",
            "Collecting pydeck>=0.1.dev5\r\n",
            "  Downloading pydeck-0.8.0-py2.py3-none-any.whl (4.7 MB)\r\n",
            "\u001b[2K     \u001b[90m━━━━━━━━━━━━━━━━━━━━━━━━━━━━━━━━━━━━━━━━\u001b[0m \u001b[32m4.7/4.7 MB\u001b[0m \u001b[31m33.4 MB/s\u001b[0m eta \u001b[36m0:00:00\u001b[0m\r\n",
            "\u001b[?25hRequirement already satisfied: typing-extensions>=3.10.0.0 in /opt/conda/lib/python3.7/site-packages (from streamlit->simpletransformers) (4.1.1)\r\n",
            "Requirement already satisfied: cachetools>=4.0 in /opt/conda/lib/python3.7/site-packages (from streamlit->simpletransformers) (4.2.4)\r\n",
            "Collecting watchdog\r\n",
            "  Downloading watchdog-2.2.0-py3-none-manylinux2014_x86_64.whl (78 kB)\r\n",
            "\u001b[2K     \u001b[90m━━━━━━━━━━━━━━━━━━━━━━━━━━━━━━━━━━━━━━━━\u001b[0m \u001b[32m78.7/78.7 kB\u001b[0m \u001b[31m8.6 MB/s\u001b[0m eta \u001b[36m0:00:00\u001b[0m\r\n",
            "\u001b[?25hRequirement already satisfied: pillow>=6.2.0 in /opt/conda/lib/python3.7/site-packages (from streamlit->simpletransformers) (9.1.1)\r\n",
            "Requirement already satisfied: blinker>=1.0.0 in /opt/conda/lib/python3.7/site-packages (from streamlit->simpletransformers) (1.4)\r\n",
            "Requirement already satisfied: tornado>=5.0 in /opt/conda/lib/python3.7/site-packages (from streamlit->simpletransformers) (6.1)\r\n",
            "Requirement already satisfied: tzlocal>=1.1 in /opt/conda/lib/python3.7/site-packages (from streamlit->simpletransformers) (4.2)\r\n",
            "Requirement already satisfied: toml in /opt/conda/lib/python3.7/site-packages (from streamlit->simpletransformers) (0.10.2)\r\n",
            "Requirement already satisfied: rich>=10.11.0 in /opt/conda/lib/python3.7/site-packages (from streamlit->simpletransformers) (12.6.0)\r\n",
            "Requirement already satisfied: pympler>=0.9 in /opt/conda/lib/python3.7/site-packages (from streamlit->simpletransformers) (1.0.1)\r\n",
            "Collecting validators>=0.2\r\n",
            "  Downloading validators-0.20.0.tar.gz (30 kB)\r\n",
            "  Preparing metadata (setup.py) ... \u001b[?25l-\b \bdone\r\n",
            "\u001b[?25hRequirement already satisfied: google-auth<3,>=1.6.3 in /opt/conda/lib/python3.7/site-packages (from tensorboard->simpletransformers) (1.35.0)\r\n",
            "Requirement already satisfied: grpcio>=1.24.3 in /opt/conda/lib/python3.7/site-packages (from tensorboard->simpletransformers) (1.43.0)\r\n",
            "Requirement already satisfied: tensorboard-data-server<0.7.0,>=0.6.0 in /opt/conda/lib/python3.7/site-packages (from tensorboard->simpletransformers) (0.6.1)\r\n",
            "Requirement already satisfied: google-auth-oauthlib<0.5,>=0.4.1 in /opt/conda/lib/python3.7/site-packages (from tensorboard->simpletransformers) (0.4.6)\r\n",
            "Requirement already satisfied: markdown>=2.6.8 in /opt/conda/lib/python3.7/site-packages (from tensorboard->simpletransformers) (3.3.7)\r\n",
            "Requirement already satisfied: tensorboard-plugin-wit>=1.6.0 in /opt/conda/lib/python3.7/site-packages (from tensorboard->simpletransformers) (1.8.1)\r\n",
            "Requirement already satisfied: wheel>=0.26 in /opt/conda/lib/python3.7/site-packages (from tensorboard->simpletransformers) (0.37.1)\r\n",
            "Requirement already satisfied: absl-py>=0.4 in /opt/conda/lib/python3.7/site-packages (from tensorboard->simpletransformers) (0.15.0)\r\n",
            "Requirement already satisfied: werkzeug>=1.0.1 in /opt/conda/lib/python3.7/site-packages (from tensorboard->simpletransformers) (2.2.2)\r\n",
            "Requirement already satisfied: toolz in /opt/conda/lib/python3.7/site-packages (from altair>=3.2.0->streamlit->simpletransformers) (0.11.2)\r\n",
            "Requirement already satisfied: jinja2 in /opt/conda/lib/python3.7/site-packages (from altair>=3.2.0->streamlit->simpletransformers) (3.1.2)\r\n",
            "Requirement already satisfied: jsonschema>=3.0 in /opt/conda/lib/python3.7/site-packages (from altair>=3.2.0->streamlit->simpletransformers) (4.6.1)\r\n",
            "Requirement already satisfied: entrypoints in /opt/conda/lib/python3.7/site-packages (from altair>=3.2.0->streamlit->simpletransformers) (0.4)\r\n",
            "Requirement already satisfied: yarl<2.0,>=1.0 in /opt/conda/lib/python3.7/site-packages (from aiohttp->datasets->simpletransformers) (1.7.2)\r\n",
            "Requirement already satisfied: attrs>=17.3.0 in /opt/conda/lib/python3.7/site-packages (from aiohttp->datasets->simpletransformers) (21.4.0)\r\n",
            "Requirement already satisfied: multidict<7.0,>=4.5 in /opt/conda/lib/python3.7/site-packages (from aiohttp->datasets->simpletransformers) (6.0.2)\r\n",
            "Requirement already satisfied: aiosignal>=1.1.2 in /opt/conda/lib/python3.7/site-packages (from aiohttp->datasets->simpletransformers) (1.2.0)\r\n",
            "Requirement already satisfied: async-timeout<5.0,>=4.0.0a3 in /opt/conda/lib/python3.7/site-packages (from aiohttp->datasets->simpletransformers) (4.0.2)\r\n",
            "Requirement already satisfied: asynctest==0.13.0 in /opt/conda/lib/python3.7/site-packages (from aiohttp->datasets->simpletransformers) (0.13.0)\r\n",
            "Requirement already satisfied: frozenlist>=1.1.1 in /opt/conda/lib/python3.7/site-packages (from aiohttp->datasets->simpletransformers) (1.3.0)\r\n",
            "Requirement already satisfied: gitdb<5,>=4.0.1 in /opt/conda/lib/python3.7/site-packages (from GitPython>=1.0.0->wandb>=0.10.32->simpletransformers) (4.0.9)\r\n",
            "Requirement already satisfied: pyasn1-modules>=0.2.1 in /opt/conda/lib/python3.7/site-packages (from google-auth<3,>=1.6.3->tensorboard->simpletransformers) (0.2.7)\r\n",
            "Requirement already satisfied: rsa<5,>=3.1.4 in /opt/conda/lib/python3.7/site-packages (from google-auth<3,>=1.6.3->tensorboard->simpletransformers) (4.8)\r\n",
            "Requirement already satisfied: requests-oauthlib>=0.7.0 in /opt/conda/lib/python3.7/site-packages (from google-auth-oauthlib<0.5,>=0.4.1->tensorboard->simpletransformers) (1.3.1)\r\n",
            "Requirement already satisfied: zipp>=0.5 in /opt/conda/lib/python3.7/site-packages (from importlib-metadata->transformers>=4.6.0->simpletransformers) (3.8.0)\r\n",
            "Requirement already satisfied: pyparsing!=3.0.5,>=2.0.2 in /opt/conda/lib/python3.7/site-packages (from packaging>=20.0->transformers>=4.6.0->simpletransformers) (3.0.9)\r\n",
            "Requirement already satisfied: commonmark<0.10.0,>=0.9.0 in /opt/conda/lib/python3.7/site-packages (from rich>=10.11.0->streamlit->simpletransformers) (0.9.1)\r\n",
            "Requirement already satisfied: pygments<3.0.0,>=2.6.0 in /opt/conda/lib/python3.7/site-packages (from rich>=10.11.0->streamlit->simpletransformers) (2.12.0)\r\n",
            "Requirement already satisfied: pytz-deprecation-shim in /opt/conda/lib/python3.7/site-packages (from tzlocal>=1.1->streamlit->simpletransformers) (0.1.0.post0)\r\n",
            "Requirement already satisfied: backports.zoneinfo in /opt/conda/lib/python3.7/site-packages (from tzlocal>=1.1->streamlit->simpletransformers) (0.2.1)\r\n",
            "Requirement already satisfied: decorator>=3.4.0 in /opt/conda/lib/python3.7/site-packages (from validators>=0.2->streamlit->simpletransformers) (5.1.1)\r\n",
            "Requirement already satisfied: MarkupSafe>=2.1.1 in /opt/conda/lib/python3.7/site-packages (from werkzeug>=1.0.1->tensorboard->simpletransformers) (2.1.1)\r\n",
            "Requirement already satisfied: smmap<6,>=3.0.1 in /opt/conda/lib/python3.7/site-packages (from gitdb<5,>=4.0.1->GitPython>=1.0.0->wandb>=0.10.32->simpletransformers) (3.0.5)\r\n",
            "Requirement already satisfied: importlib-resources>=1.4.0 in /opt/conda/lib/python3.7/site-packages (from jsonschema>=3.0->altair>=3.2.0->streamlit->simpletransformers) (5.8.0)\r\n",
            "Requirement already satisfied: pyrsistent!=0.17.0,!=0.17.1,!=0.17.2,>=0.14.0 in /opt/conda/lib/python3.7/site-packages (from jsonschema>=3.0->altair>=3.2.0->streamlit->simpletransformers) (0.18.1)\r\n",
            "Requirement already satisfied: pyasn1<0.5.0,>=0.4.6 in /opt/conda/lib/python3.7/site-packages (from pyasn1-modules>=0.2.1->google-auth<3,>=1.6.3->tensorboard->simpletransformers) (0.4.8)\r\n",
            "Requirement already satisfied: oauthlib>=3.0.0 in /opt/conda/lib/python3.7/site-packages (from requests-oauthlib>=0.7.0->google-auth-oauthlib<0.5,>=0.4.1->tensorboard->simpletransformers) (3.2.0)\r\n",
            "Requirement already satisfied: tzdata in /opt/conda/lib/python3.7/site-packages (from pytz-deprecation-shim->tzlocal>=1.1->streamlit->simpletransformers) (2022.5)\r\n",
            "Building wheels for collected packages: seqeval, validators\r\n",
            "  Building wheel for seqeval (setup.py) ... \u001b[?25l-\b \b\\\b \b|\b \bdone\r\n",
            "\u001b[?25h  Created wheel for seqeval: filename=seqeval-1.2.2-py3-none-any.whl size=16180 sha256=9625d4fbb94577ef9425f7b13ed77018483e126f1fce115187b64a17c20d8fb5\r\n",
            "  Stored in directory: /root/.cache/pip/wheels/05/96/ee/7cac4e74f3b19e3158dce26a20a1c86b3533c43ec72a549fd7\r\n",
            "  Building wheel for validators (setup.py) ... \u001b[?25l-\b \b\\\b \bdone\r\n",
            "\u001b[?25h  Created wheel for validators: filename=validators-0.20.0-py3-none-any.whl size=19582 sha256=d2c65fe72f511efd48611d350a70634072ceaecd83f5cacbbeff1fd967f60feb\r\n",
            "  Stored in directory: /root/.cache/pip/wheels/5f/55/ab/36a76989f7f88d9ca7b1f68da6d94252bb6a8d6ad4f18e04e9\r\n",
            "Successfully built seqeval validators\r\n",
            "Installing collected packages: watchdog, validators, pydeck, seqeval, streamlit, simpletransformers\r\n",
            "Successfully installed pydeck-0.8.0 seqeval-1.2.2 simpletransformers-0.63.9 streamlit-1.16.0 validators-0.20.0 watchdog-2.2.0\r\n",
            "\u001b[33mWARNING: Running pip as the 'root' user can result in broken permissions and conflicting behaviour with the system package manager. It is recommended to use a virtual environment instead: https://pip.pypa.io/warnings/venv\u001b[0m\u001b[33m\r\n",
            "\u001b[0m"
          ]
        }
      ],
      "source": [
        "!pip install --upgrade transformers\n",
        "!pip install simpletransformers"
      ]
    },
    {
      "cell_type": "code",
      "execution_count": null,
      "id": "55909fc3",
      "metadata": {
        "execution": {
          "iopub.execute_input": "2022-12-16T16:38:12.259984Z",
          "iopub.status.busy": "2022-12-16T16:38:12.258965Z",
          "iopub.status.idle": "2022-12-16T16:38:12.448456Z",
          "shell.execute_reply": "2022-12-16T16:38:12.447443Z"
        },
        "papermill": {
          "duration": 0.203639,
          "end_time": "2022-12-16T16:38:12.451477",
          "exception": false,
          "start_time": "2022-12-16T16:38:12.247838",
          "status": "completed"
        },
        "tags": [],
        "id": "55909fc3",
        "outputId": "2766240f-f9e7-4c00-b53f-7136d4704323"
      },
      "outputs": [
        {
          "name": "stdout",
          "output_type": "stream",
          "text": [
            "/kaggle/input/science-topic-classification/SampleSubmission.csv\n",
            "/kaggle/input/science-topic-classification/train.csv\n",
            "/kaggle/input/science-topic-classification/test.csv\n"
          ]
        }
      ],
      "source": [
        "import warnings\n",
        "warnings.filterwarnings('ignore')\n",
        "\n",
        "import numpy as np\n",
        "import pandas as pd\n",
        "from scipy.special import softmax\n",
        "\n",
        "import os\n",
        "for dirname, _, filenames in os.walk('/kaggle/input'):\n",
        "    for filename in filenames:\n",
        "        print(os.path.join(dirname, filename))"
      ]
    },
    {
      "cell_type": "markdown",
      "id": "5c1361f4",
      "metadata": {
        "papermill": {
          "duration": 0.011007,
          "end_time": "2022-12-16T16:38:12.472942",
          "exception": false,
          "start_time": "2022-12-16T16:38:12.461935",
          "status": "completed"
        },
        "tags": [],
        "id": "5c1361f4"
      },
      "source": [
        "## Submission File Check"
      ]
    },
    {
      "cell_type": "code",
      "execution_count": null,
      "id": "b4033419",
      "metadata": {
        "execution": {
          "iopub.execute_input": "2022-12-16T16:38:12.493976Z",
          "iopub.status.busy": "2022-12-16T16:38:12.493009Z",
          "iopub.status.idle": "2022-12-16T16:38:12.521938Z",
          "shell.execute_reply": "2022-12-16T16:38:12.520953Z"
        },
        "papermill": {
          "duration": 0.04171,
          "end_time": "2022-12-16T16:38:12.524163",
          "exception": false,
          "start_time": "2022-12-16T16:38:12.482453",
          "status": "completed"
        },
        "tags": [],
        "id": "b4033419",
        "outputId": "6555e1e0-51ff-4a2c-8673-25e782329189"
      },
      "outputs": [
        {
          "data": {
            "text/html": [
              "<div>\n",
              "<style scoped>\n",
              "    .dataframe tbody tr th:only-of-type {\n",
              "        vertical-align: middle;\n",
              "    }\n",
              "\n",
              "    .dataframe tbody tr th {\n",
              "        vertical-align: top;\n",
              "    }\n",
              "\n",
              "    .dataframe thead th {\n",
              "        text-align: right;\n",
              "    }\n",
              "</style>\n",
              "<table border=\"1\" class=\"dataframe\">\n",
              "  <thead>\n",
              "    <tr style=\"text-align: right;\">\n",
              "      <th></th>\n",
              "      <th>ID</th>\n",
              "      <th>label</th>\n",
              "    </tr>\n",
              "  </thead>\n",
              "  <tbody>\n",
              "    <tr>\n",
              "      <th>0</th>\n",
              "      <td>1</td>\n",
              "      <td>-1</td>\n",
              "    </tr>\n",
              "    <tr>\n",
              "      <th>1</th>\n",
              "      <td>2</td>\n",
              "      <td>-1</td>\n",
              "    </tr>\n",
              "    <tr>\n",
              "      <th>2</th>\n",
              "      <td>3</td>\n",
              "      <td>-1</td>\n",
              "    </tr>\n",
              "    <tr>\n",
              "      <th>3</th>\n",
              "      <td>4</td>\n",
              "      <td>-1</td>\n",
              "    </tr>\n",
              "    <tr>\n",
              "      <th>4</th>\n",
              "      <td>5</td>\n",
              "      <td>-1</td>\n",
              "    </tr>\n",
              "  </tbody>\n",
              "</table>\n",
              "</div>"
            ],
            "text/plain": [
              "   ID  label\n",
              "0   1     -1\n",
              "1   2     -1\n",
              "2   3     -1\n",
              "3   4     -1\n",
              "4   5     -1"
            ]
          },
          "execution_count": 3,
          "metadata": {},
          "output_type": "execute_result"
        }
      ],
      "source": [
        "sub = pd.read_csv('/kaggle/input/science-topic-classification/SampleSubmission.csv')\n",
        "sub.head()"
      ]
    },
    {
      "cell_type": "markdown",
      "id": "44c3053c",
      "metadata": {
        "papermill": {
          "duration": 0.009698,
          "end_time": "2022-12-16T16:38:12.543775",
          "exception": false,
          "start_time": "2022-12-16T16:38:12.534077",
          "status": "completed"
        },
        "tags": [],
        "id": "44c3053c"
      },
      "source": [
        "## Data Check"
      ]
    },
    {
      "cell_type": "code",
      "execution_count": null,
      "id": "ae137e5a",
      "metadata": {
        "execution": {
          "iopub.execute_input": "2022-12-16T16:38:12.565140Z",
          "iopub.status.busy": "2022-12-16T16:38:12.564333Z",
          "iopub.status.idle": "2022-12-16T16:38:12.955347Z",
          "shell.execute_reply": "2022-12-16T16:38:12.954411Z"
        },
        "papermill": {
          "duration": 0.403969,
          "end_time": "2022-12-16T16:38:12.957525",
          "exception": false,
          "start_time": "2022-12-16T16:38:12.553556",
          "status": "completed"
        },
        "tags": [],
        "id": "ae137e5a",
        "outputId": "54bc5c53-019c-4dd2-c1d7-a5216605ee87"
      },
      "outputs": [
        {
          "data": {
            "text/html": [
              "<div>\n",
              "<style scoped>\n",
              "    .dataframe tbody tr th:only-of-type {\n",
              "        vertical-align: middle;\n",
              "    }\n",
              "\n",
              "    .dataframe tbody tr th {\n",
              "        vertical-align: top;\n",
              "    }\n",
              "\n",
              "    .dataframe thead th {\n",
              "        text-align: right;\n",
              "    }\n",
              "</style>\n",
              "<table border=\"1\" class=\"dataframe\">\n",
              "  <thead>\n",
              "    <tr style=\"text-align: right;\">\n",
              "      <th></th>\n",
              "      <th>articles</th>\n",
              "      <th>label</th>\n",
              "    </tr>\n",
              "  </thead>\n",
              "  <tbody>\n",
              "    <tr>\n",
              "      <th>0</th>\n",
              "      <td>Detecting the impact of public transit on the ...</td>\n",
              "      <td>0</td>\n",
              "    </tr>\n",
              "    <tr>\n",
              "      <th>1</th>\n",
              "      <td>Is Proxima Centauri b habitable? -- A study of...</td>\n",
              "      <td>1</td>\n",
              "    </tr>\n",
              "    <tr>\n",
              "      <th>2</th>\n",
              "      <td>Verifying Security Protocols using Dynamic Str...</td>\n",
              "      <td>0</td>\n",
              "    </tr>\n",
              "    <tr>\n",
              "      <th>3</th>\n",
              "      <td>Scenic: Language-Based Scene Generation  Synth...</td>\n",
              "      <td>0</td>\n",
              "    </tr>\n",
              "    <tr>\n",
              "      <th>4</th>\n",
              "      <td>Near-Optimal Discrete Optimization for Experim...</td>\n",
              "      <td>0</td>\n",
              "    </tr>\n",
              "  </tbody>\n",
              "</table>\n",
              "</div>"
            ],
            "text/plain": [
              "                                            articles  label\n",
              "0  Detecting the impact of public transit on the ...      0\n",
              "1  Is Proxima Centauri b habitable? -- A study of...      1\n",
              "2  Verifying Security Protocols using Dynamic Str...      0\n",
              "3  Scenic: Language-Based Scene Generation  Synth...      0\n",
              "4  Near-Optimal Discrete Optimization for Experim...      0"
            ]
          },
          "execution_count": 4,
          "metadata": {},
          "output_type": "execute_result"
        }
      ],
      "source": [
        "train = pd.read_csv('/kaggle/input/science-topic-classification/train.csv')\n",
        "train['articles'] = train['TITLE'] + train['ABSTRACT']\n",
        "train = train[['articles', 'label']]\n",
        "train.head()"
      ]
    },
    {
      "cell_type": "code",
      "execution_count": null,
      "id": "82111c50",
      "metadata": {
        "execution": {
          "iopub.execute_input": "2022-12-16T16:38:12.980396Z",
          "iopub.status.busy": "2022-12-16T16:38:12.978879Z",
          "iopub.status.idle": "2022-12-16T16:38:13.096592Z",
          "shell.execute_reply": "2022-12-16T16:38:13.095551Z"
        },
        "papermill": {
          "duration": 0.131113,
          "end_time": "2022-12-16T16:38:13.098797",
          "exception": false,
          "start_time": "2022-12-16T16:38:12.967684",
          "status": "completed"
        },
        "tags": [],
        "id": "82111c50",
        "outputId": "776287ad-e18c-4952-ffde-effef6d2b2fe"
      },
      "outputs": [
        {
          "data": {
            "text/html": [
              "<div>\n",
              "<style scoped>\n",
              "    .dataframe tbody tr th:only-of-type {\n",
              "        vertical-align: middle;\n",
              "    }\n",
              "\n",
              "    .dataframe tbody tr th {\n",
              "        vertical-align: top;\n",
              "    }\n",
              "\n",
              "    .dataframe thead th {\n",
              "        text-align: right;\n",
              "    }\n",
              "</style>\n",
              "<table border=\"1\" class=\"dataframe\">\n",
              "  <thead>\n",
              "    <tr style=\"text-align: right;\">\n",
              "      <th></th>\n",
              "      <th>articles</th>\n",
              "      <th>label</th>\n",
              "    </tr>\n",
              "  </thead>\n",
              "  <tbody>\n",
              "    <tr>\n",
              "      <th>0</th>\n",
              "      <td>An analytic resolution to the competition betw...</td>\n",
              "      <td>0</td>\n",
              "    </tr>\n",
              "    <tr>\n",
              "      <th>1</th>\n",
              "      <td>Attention-based Natural Language Person Retrie...</td>\n",
              "      <td>0</td>\n",
              "    </tr>\n",
              "    <tr>\n",
              "      <th>2</th>\n",
              "      <td>Asymptotics of multivariate contingency tables...</td>\n",
              "      <td>0</td>\n",
              "    </tr>\n",
              "    <tr>\n",
              "      <th>3</th>\n",
              "      <td>Discriminant of the ordinary transversal singu...</td>\n",
              "      <td>0</td>\n",
              "    </tr>\n",
              "    <tr>\n",
              "      <th>4</th>\n",
              "      <td>Pharmacokinetics Simulations for Studying Corr...</td>\n",
              "      <td>0</td>\n",
              "    </tr>\n",
              "  </tbody>\n",
              "</table>\n",
              "</div>"
            ],
            "text/plain": [
              "                                            articles  label\n",
              "0  An analytic resolution to the competition betw...      0\n",
              "1  Attention-based Natural Language Person Retrie...      0\n",
              "2  Asymptotics of multivariate contingency tables...      0\n",
              "3  Discriminant of the ordinary transversal singu...      0\n",
              "4  Pharmacokinetics Simulations for Studying Corr...      0"
            ]
          },
          "execution_count": 5,
          "metadata": {},
          "output_type": "execute_result"
        }
      ],
      "source": [
        "test = pd.read_csv('/kaggle/input/science-topic-classification/test.csv')\n",
        "test['articles'] = test['TITLE'] + test['ABSTRACT']\n",
        "test = test[['articles']]\n",
        "test['label'] = 0\n",
        "test.head()"
      ]
    },
    {
      "cell_type": "markdown",
      "id": "4fdafe01",
      "metadata": {
        "papermill": {
          "duration": 0.01012,
          "end_time": "2022-12-16T16:38:13.119497",
          "exception": false,
          "start_time": "2022-12-16T16:38:13.109377",
          "status": "completed"
        },
        "tags": [],
        "id": "4fdafe01"
      },
      "source": [
        "## Preprocessing"
      ]
    },
    {
      "cell_type": "code",
      "execution_count": null,
      "id": "d2bc7b38",
      "metadata": {
        "execution": {
          "iopub.execute_input": "2022-12-16T16:38:13.141711Z",
          "iopub.status.busy": "2022-12-16T16:38:13.141355Z",
          "iopub.status.idle": "2022-12-16T16:38:14.175599Z",
          "shell.execute_reply": "2022-12-16T16:38:14.174640Z"
        },
        "papermill": {
          "duration": 1.047841,
          "end_time": "2022-12-16T16:38:14.178021",
          "exception": false,
          "start_time": "2022-12-16T16:38:13.130180",
          "status": "completed"
        },
        "tags": [],
        "id": "d2bc7b38"
      },
      "outputs": [],
      "source": [
        "import re\n",
        "from nltk.corpus import stopwords\n",
        "from nltk.tokenize import word_tokenize"
      ]
    },
    {
      "cell_type": "code",
      "execution_count": null,
      "id": "0e36dae0",
      "metadata": {
        "execution": {
          "iopub.execute_input": "2022-12-16T16:38:14.199912Z",
          "iopub.status.busy": "2022-12-16T16:38:14.199578Z",
          "iopub.status.idle": "2022-12-16T16:38:14.207208Z",
          "shell.execute_reply": "2022-12-16T16:38:14.206237Z"
        },
        "papermill": {
          "duration": 0.020948,
          "end_time": "2022-12-16T16:38:14.209350",
          "exception": false,
          "start_time": "2022-12-16T16:38:14.188402",
          "status": "completed"
        },
        "tags": [],
        "id": "0e36dae0"
      },
      "outputs": [],
      "source": [
        "def preprocessor(df: pd.DataFrame):\n",
        "    df['articles'] = df['articles'].str.replace('\\n', ' ')\n",
        "    df['articles'] = df['articles'].str.replace('\\t', ' ')\n",
        "    df['articles'] = df['articles'].str.replace('?', '')\n",
        "    \n",
        "    df['articles'] = df['articles'].apply(lambda x: re.sub(r'[0-9]', '', x))\n",
        "    df['articles'] = df['articles'].apply(lambda x: re.sub(r'[/(){}\\[\\]\\|@,;.:-]', ' ', x))\n",
        "    \n",
        "    df['articles'] = df['articles'].apply(lambda x: x.lower())\n",
        "    \n",
        "    df['articles'] = df['articles'].str.replace('  ', ' ')\n",
        "    \n",
        "    df['articles'] = df['articles'].apply(lambda x: ' '.join(word for word in x.split()\n",
        "                                                             if word not in stopwords.words('english')))\n",
        "            \n",
        "    return df"
      ]
    },
    {
      "cell_type": "code",
      "execution_count": null,
      "id": "a424f4b3",
      "metadata": {
        "execution": {
          "iopub.execute_input": "2022-12-16T16:38:14.234224Z",
          "iopub.status.busy": "2022-12-16T16:38:14.233788Z",
          "iopub.status.idle": "2022-12-16T16:44:38.181516Z",
          "shell.execute_reply": "2022-12-16T16:44:38.180490Z"
        },
        "papermill": {
          "duration": 383.965036,
          "end_time": "2022-12-16T16:44:38.184557",
          "exception": false,
          "start_time": "2022-12-16T16:38:14.219521",
          "status": "completed"
        },
        "tags": [],
        "id": "a424f4b3"
      },
      "outputs": [],
      "source": [
        "train = preprocessor(train)\n",
        "test = preprocessor(test)"
      ]
    },
    {
      "cell_type": "code",
      "execution_count": null,
      "id": "d3cce814",
      "metadata": {
        "execution": {
          "iopub.execute_input": "2022-12-16T16:44:38.207349Z",
          "iopub.status.busy": "2022-12-16T16:44:38.207004Z",
          "iopub.status.idle": "2022-12-16T16:44:38.216230Z",
          "shell.execute_reply": "2022-12-16T16:44:38.215348Z"
        },
        "papermill": {
          "duration": 0.022867,
          "end_time": "2022-12-16T16:44:38.218159",
          "exception": false,
          "start_time": "2022-12-16T16:44:38.195292",
          "status": "completed"
        },
        "tags": [],
        "id": "d3cce814",
        "outputId": "2331bda6-9c25-4d90-ab0f-de7323e471a1"
      },
      "outputs": [
        {
          "data": {
            "text/html": [
              "<div>\n",
              "<style scoped>\n",
              "    .dataframe tbody tr th:only-of-type {\n",
              "        vertical-align: middle;\n",
              "    }\n",
              "\n",
              "    .dataframe tbody tr th {\n",
              "        vertical-align: top;\n",
              "    }\n",
              "\n",
              "    .dataframe thead th {\n",
              "        text-align: right;\n",
              "    }\n",
              "</style>\n",
              "<table border=\"1\" class=\"dataframe\">\n",
              "  <thead>\n",
              "    <tr style=\"text-align: right;\">\n",
              "      <th></th>\n",
              "      <th>articles</th>\n",
              "      <th>label</th>\n",
              "    </tr>\n",
              "  </thead>\n",
              "  <tbody>\n",
              "    <tr>\n",
              "      <th>0</th>\n",
              "      <td>detecting impact public transit transmission e...</td>\n",
              "      <td>0</td>\n",
              "    </tr>\n",
              "    <tr>\n",
              "      <th>1</th>\n",
              "      <td>proxima centauri b habitable study atmospheric...</td>\n",
              "      <td>1</td>\n",
              "    </tr>\n",
              "    <tr>\n",
              "      <th>2</th>\n",
              "      <td>verifying security protocols using dynamic str...</td>\n",
              "      <td>0</td>\n",
              "    </tr>\n",
              "    <tr>\n",
              "      <th>3</th>\n",
              "      <td>scenic language based scene generation synthet...</td>\n",
              "      <td>0</td>\n",
              "    </tr>\n",
              "    <tr>\n",
              "      <th>4</th>\n",
              "      <td>near optimal discrete optimization experimenta...</td>\n",
              "      <td>0</td>\n",
              "    </tr>\n",
              "  </tbody>\n",
              "</table>\n",
              "</div>"
            ],
            "text/plain": [
              "                                            articles  label\n",
              "0  detecting impact public transit transmission e...      0\n",
              "1  proxima centauri b habitable study atmospheric...      1\n",
              "2  verifying security protocols using dynamic str...      0\n",
              "3  scenic language based scene generation synthet...      0\n",
              "4  near optimal discrete optimization experimenta...      0"
            ]
          },
          "execution_count": 9,
          "metadata": {},
          "output_type": "execute_result"
        }
      ],
      "source": [
        "train.head()"
      ]
    },
    {
      "cell_type": "markdown",
      "id": "cf6d4de0",
      "metadata": {
        "papermill": {
          "duration": 0.010022,
          "end_time": "2022-12-16T16:44:38.238518",
          "exception": false,
          "start_time": "2022-12-16T16:44:38.228496",
          "status": "completed"
        },
        "tags": [],
        "id": "cf6d4de0"
      },
      "source": [
        "## Roberta"
      ]
    },
    {
      "cell_type": "code",
      "execution_count": null,
      "id": "af591a74",
      "metadata": {
        "execution": {
          "iopub.execute_input": "2022-12-16T16:44:38.261072Z",
          "iopub.status.busy": "2022-12-16T16:44:38.260186Z",
          "iopub.status.idle": "2022-12-16T16:44:49.231013Z",
          "shell.execute_reply": "2022-12-16T16:44:49.229970Z"
        },
        "papermill": {
          "duration": 10.985158,
          "end_time": "2022-12-16T16:44:49.233854",
          "exception": false,
          "start_time": "2022-12-16T16:44:38.248696",
          "status": "completed"
        },
        "tags": [],
        "id": "af591a74"
      },
      "outputs": [],
      "source": [
        "from simpletransformers.classification import ClassificationModel"
      ]
    },
    {
      "cell_type": "code",
      "execution_count": null,
      "id": "e796d5e5",
      "metadata": {
        "execution": {
          "iopub.execute_input": "2022-12-16T16:44:49.256712Z",
          "iopub.status.busy": "2022-12-16T16:44:49.256025Z",
          "iopub.status.idle": "2022-12-16T16:44:49.261404Z",
          "shell.execute_reply": "2022-12-16T16:44:49.260335Z"
        },
        "papermill": {
          "duration": 0.019342,
          "end_time": "2022-12-16T16:44:49.263883",
          "exception": false,
          "start_time": "2022-12-16T16:44:49.244541",
          "status": "completed"
        },
        "tags": [],
        "id": "e796d5e5"
      },
      "outputs": [],
      "source": [
        "args = {'train_batch_size': 32,\n",
        "        'reprocess_input_data': True,\n",
        "        'num_train_epochs': 3,\n",
        "        'fp16': False,\n",
        "        'do_lower_case': False,\n",
        "        'max_seq_length': 256,\n",
        "        'regression': False,\n",
        "        'learning_rate': 5e-5,\n",
        "        'weight_decay': 0.0,\n",
        "        'save_eval_checkpoints': False,\n",
        "        'save_model_every_epoch': False}"
      ]
    },
    {
      "cell_type": "code",
      "execution_count": null,
      "id": "c3d7d646",
      "metadata": {
        "execution": {
          "iopub.execute_input": "2022-12-16T16:44:49.287073Z",
          "iopub.status.busy": "2022-12-16T16:44:49.285568Z",
          "iopub.status.idle": "2022-12-16T16:45:16.075142Z",
          "shell.execute_reply": "2022-12-16T16:45:16.074132Z"
        },
        "papermill": {
          "duration": 26.803623,
          "end_time": "2022-12-16T16:45:16.077897",
          "exception": false,
          "start_time": "2022-12-16T16:44:49.274274",
          "status": "completed"
        },
        "tags": [],
        "id": "c3d7d646",
        "outputId": "7365bd1c-fc2e-4897-fd17-13452655d718",
        "colab": {
          "referenced_widgets": [
            "29ef2d52b34a44a688b32d460d739bba",
            "df4b09874e024a8fb40ed46abd59a128",
            "9d1ffb780faf4514bc409f3ac3534aa1",
            "be2f5f95dd7948de882b6368492a7de4",
            "8fe6edbd6e464399810dddb771095833"
          ]
        }
      },
      "outputs": [
        {
          "data": {
            "application/vnd.jupyter.widget-view+json": {
              "model_id": "29ef2d52b34a44a688b32d460d739bba",
              "version_major": 2,
              "version_minor": 0
            },
            "text/plain": [
              "Downloading:   0%|          | 0.00/481 [00:00<?, ?B/s]"
            ]
          },
          "metadata": {},
          "output_type": "display_data"
        },
        {
          "data": {
            "application/vnd.jupyter.widget-view+json": {
              "model_id": "df4b09874e024a8fb40ed46abd59a128",
              "version_major": 2,
              "version_minor": 0
            },
            "text/plain": [
              "Downloading:   0%|          | 0.00/501M [00:00<?, ?B/s]"
            ]
          },
          "metadata": {},
          "output_type": "display_data"
        },
        {
          "name": "stderr",
          "output_type": "stream",
          "text": [
            "Some weights of the model checkpoint at roberta-base were not used when initializing RobertaForSequenceClassification: ['roberta.pooler.dense.weight', 'lm_head.dense.bias', 'lm_head.layer_norm.weight', 'roberta.pooler.dense.bias', 'lm_head.decoder.weight', 'lm_head.bias', 'lm_head.dense.weight', 'lm_head.layer_norm.bias']\n",
            "- This IS expected if you are initializing RobertaForSequenceClassification from the checkpoint of a model trained on another task or with another architecture (e.g. initializing a BertForSequenceClassification model from a BertForPreTraining model).\n",
            "- This IS NOT expected if you are initializing RobertaForSequenceClassification from the checkpoint of a model that you expect to be exactly identical (initializing a BertForSequenceClassification model from a BertForSequenceClassification model).\n",
            "Some weights of RobertaForSequenceClassification were not initialized from the model checkpoint at roberta-base and are newly initialized: ['classifier.out_proj.bias', 'classifier.dense.weight', 'classifier.out_proj.weight', 'classifier.dense.bias']\n",
            "You should probably TRAIN this model on a down-stream task to be able to use it for predictions and inference.\n"
          ]
        },
        {
          "data": {
            "application/vnd.jupyter.widget-view+json": {
              "model_id": "9d1ffb780faf4514bc409f3ac3534aa1",
              "version_major": 2,
              "version_minor": 0
            },
            "text/plain": [
              "Downloading:   0%|          | 0.00/899k [00:00<?, ?B/s]"
            ]
          },
          "metadata": {},
          "output_type": "display_data"
        },
        {
          "data": {
            "application/vnd.jupyter.widget-view+json": {
              "model_id": "be2f5f95dd7948de882b6368492a7de4",
              "version_major": 2,
              "version_minor": 0
            },
            "text/plain": [
              "Downloading:   0%|          | 0.00/456k [00:00<?, ?B/s]"
            ]
          },
          "metadata": {},
          "output_type": "display_data"
        },
        {
          "data": {
            "application/vnd.jupyter.widget-view+json": {
              "model_id": "8fe6edbd6e464399810dddb771095833",
              "version_major": 2,
              "version_minor": 0
            },
            "text/plain": [
              "Downloading:   0%|          | 0.00/1.36M [00:00<?, ?B/s]"
            ]
          },
          "metadata": {},
          "output_type": "display_data"
        }
      ],
      "source": [
        "model = ClassificationModel('roberta', 'roberta-base', use_cuda=True, num_labels=4, args=args)"
      ]
    },
    {
      "cell_type": "code",
      "execution_count": null,
      "id": "b23a5906",
      "metadata": {
        "execution": {
          "iopub.execute_input": "2022-12-16T16:45:16.103211Z",
          "iopub.status.busy": "2022-12-16T16:45:16.102200Z",
          "iopub.status.idle": "2022-12-16T17:03:37.986877Z",
          "shell.execute_reply": "2022-12-16T17:03:37.985744Z"
        },
        "papermill": {
          "duration": 1101.899186,
          "end_time": "2022-12-16T17:03:37.989101",
          "exception": false,
          "start_time": "2022-12-16T16:45:16.089915",
          "status": "completed"
        },
        "tags": [],
        "id": "b23a5906",
        "outputId": "6b23e9b7-67f8-495a-b356-98c85b8f4a8d",
        "colab": {
          "referenced_widgets": [
            "357c572fb15c4ee282d625d27bfee744",
            "a1263a4b25304c4b9c7a9b8f58728b72",
            "06bc3b69d19a489a866ec61d9025c40f",
            "6123c5fb6dfb486d9b42263fa0d41a16",
            "4320edb13d0d4738bf288864df1aa7df"
          ]
        }
      },
      "outputs": [
        {
          "data": {
            "application/vnd.jupyter.widget-view+json": {
              "model_id": "357c572fb15c4ee282d625d27bfee744",
              "version_major": 2,
              "version_minor": 0
            },
            "text/plain": [
              "  0%|          | 0/15472 [00:00<?, ?it/s]"
            ]
          },
          "metadata": {},
          "output_type": "display_data"
        },
        {
          "data": {
            "application/vnd.jupyter.widget-view+json": {
              "model_id": "a1263a4b25304c4b9c7a9b8f58728b72",
              "version_major": 2,
              "version_minor": 0
            },
            "text/plain": [
              "Epoch:   0%|          | 0/3 [00:00<?, ?it/s]"
            ]
          },
          "metadata": {},
          "output_type": "display_data"
        },
        {
          "data": {
            "application/vnd.jupyter.widget-view+json": {
              "model_id": "06bc3b69d19a489a866ec61d9025c40f",
              "version_major": 2,
              "version_minor": 0
            },
            "text/plain": [
              "Running Epoch 0 of 3:   0%|          | 0/484 [00:00<?, ?it/s]"
            ]
          },
          "metadata": {},
          "output_type": "display_data"
        },
        {
          "data": {
            "application/vnd.jupyter.widget-view+json": {
              "model_id": "6123c5fb6dfb486d9b42263fa0d41a16",
              "version_major": 2,
              "version_minor": 0
            },
            "text/plain": [
              "Running Epoch 1 of 3:   0%|          | 0/484 [00:00<?, ?it/s]"
            ]
          },
          "metadata": {},
          "output_type": "display_data"
        },
        {
          "data": {
            "application/vnd.jupyter.widget-view+json": {
              "model_id": "4320edb13d0d4738bf288864df1aa7df",
              "version_major": 2,
              "version_minor": 0
            },
            "text/plain": [
              "Running Epoch 2 of 3:   0%|          | 0/484 [00:00<?, ?it/s]"
            ]
          },
          "metadata": {},
          "output_type": "display_data"
        },
        {
          "data": {
            "text/plain": [
              "(1452, 0.46390723254911337)"
            ]
          },
          "execution_count": 13,
          "metadata": {},
          "output_type": "execute_result"
        }
      ],
      "source": [
        "model.train_model(train)"
      ]
    },
    {
      "cell_type": "code",
      "execution_count": null,
      "id": "36d50f47",
      "metadata": {
        "execution": {
          "iopub.execute_input": "2022-12-16T17:03:38.016440Z",
          "iopub.status.busy": "2022-12-16T17:03:38.014493Z",
          "iopub.status.idle": "2022-12-16T17:04:21.304026Z",
          "shell.execute_reply": "2022-12-16T17:04:21.302958Z"
        },
        "papermill": {
          "duration": 43.305348,
          "end_time": "2022-12-16T17:04:21.306574",
          "exception": false,
          "start_time": "2022-12-16T17:03:38.001226",
          "status": "completed"
        },
        "tags": [],
        "id": "36d50f47",
        "outputId": "2cd0475f-7db4-448d-c552-ff19ead5d5a6",
        "colab": {
          "referenced_widgets": [
            "928422eb5a7f41729019b7119064fa73",
            "bfcf54a7cd3b4700b93e2f454900fddb"
          ]
        }
      },
      "outputs": [
        {
          "data": {
            "application/vnd.jupyter.widget-view+json": {
              "model_id": "928422eb5a7f41729019b7119064fa73",
              "version_major": 2,
              "version_minor": 0
            },
            "text/plain": [
              "  0%|          | 0/4844 [00:00<?, ?it/s]"
            ]
          },
          "metadata": {},
          "output_type": "display_data"
        },
        {
          "data": {
            "application/vnd.jupyter.widget-view+json": {
              "model_id": "bfcf54a7cd3b4700b93e2f454900fddb",
              "version_major": 2,
              "version_minor": 0
            },
            "text/plain": [
              "Running Evaluation:   0%|          | 0/606 [00:00<?, ?it/s]"
            ]
          },
          "metadata": {},
          "output_type": "display_data"
        }
      ],
      "source": [
        "res_r, output_r, wrong_pred_r = model.eval_model(test)"
      ]
    },
    {
      "cell_type": "code",
      "execution_count": null,
      "id": "010d92e1",
      "metadata": {
        "execution": {
          "iopub.execute_input": "2022-12-16T17:04:21.334312Z",
          "iopub.status.busy": "2022-12-16T17:04:21.333299Z",
          "iopub.status.idle": "2022-12-16T17:04:21.340091Z",
          "shell.execute_reply": "2022-12-16T17:04:21.339240Z"
        },
        "papermill": {
          "duration": 0.022325,
          "end_time": "2022-12-16T17:04:21.342175",
          "exception": false,
          "start_time": "2022-12-16T17:04:21.319850",
          "status": "completed"
        },
        "tags": [],
        "id": "010d92e1"
      },
      "outputs": [],
      "source": [
        "soft_r = softmax(output_r, axis=1)"
      ]
    },
    {
      "cell_type": "code",
      "execution_count": null,
      "id": "466c2f1e",
      "metadata": {
        "execution": {
          "iopub.execute_input": "2022-12-16T17:04:21.368757Z",
          "iopub.status.busy": "2022-12-16T17:04:21.367866Z",
          "iopub.status.idle": "2022-12-16T17:04:21.375118Z",
          "shell.execute_reply": "2022-12-16T17:04:21.374199Z"
        },
        "papermill": {
          "duration": 0.022883,
          "end_time": "2022-12-16T17:04:21.377320",
          "exception": false,
          "start_time": "2022-12-16T17:04:21.354437",
          "status": "completed"
        },
        "tags": [],
        "id": "466c2f1e",
        "outputId": "c9945e60-f770-4fbb-c37f-cba41a263f9b"
      },
      "outputs": [
        {
          "data": {
            "text/plain": [
              "array([1, 0, 2, ..., 1, 1, 1])"
            ]
          },
          "execution_count": 16,
          "metadata": {},
          "output_type": "execute_result"
        }
      ],
      "source": [
        "pred_r = np.argmax(output_r, axis=-1)\n",
        "pred_r"
      ]
    },
    {
      "cell_type": "code",
      "execution_count": null,
      "id": "1e9d3681",
      "metadata": {
        "execution": {
          "iopub.execute_input": "2022-12-16T17:04:21.403296Z",
          "iopub.status.busy": "2022-12-16T17:04:21.402980Z",
          "iopub.status.idle": "2022-12-16T17:04:21.416057Z",
          "shell.execute_reply": "2022-12-16T17:04:21.415134Z"
        },
        "papermill": {
          "duration": 0.028659,
          "end_time": "2022-12-16T17:04:21.418235",
          "exception": false,
          "start_time": "2022-12-16T17:04:21.389576",
          "status": "completed"
        },
        "tags": [],
        "id": "1e9d3681"
      },
      "outputs": [],
      "source": [
        "sub['label'] = pred_r\n",
        "sub.to_csv('res_roberta.csv', index=False)"
      ]
    },
    {
      "cell_type": "markdown",
      "id": "03021941",
      "metadata": {
        "papermill": {
          "duration": 0.012291,
          "end_time": "2022-12-16T17:04:21.443074",
          "exception": false,
          "start_time": "2022-12-16T17:04:21.430783",
          "status": "completed"
        },
        "tags": [],
        "id": "03021941"
      },
      "source": [
        "## Bert"
      ]
    },
    {
      "cell_type": "code",
      "execution_count": null,
      "id": "382c45e1",
      "metadata": {
        "execution": {
          "iopub.execute_input": "2022-12-16T17:04:21.470087Z",
          "iopub.status.busy": "2022-12-16T17:04:21.469141Z",
          "iopub.status.idle": "2022-12-16T17:04:21.474664Z",
          "shell.execute_reply": "2022-12-16T17:04:21.473691Z"
        },
        "papermill": {
          "duration": 0.021432,
          "end_time": "2022-12-16T17:04:21.476832",
          "exception": false,
          "start_time": "2022-12-16T17:04:21.455400",
          "status": "completed"
        },
        "tags": [],
        "id": "382c45e1"
      },
      "outputs": [],
      "source": [
        "args = {'train_batch_size': 32,\n",
        "        'reprocess_input_data': True,\n",
        "        'overwrite_output_dir': True,\n",
        "        'num_train_epochs': 2,\n",
        "        'fp16': False,\n",
        "        'do_lower_case': False,\n",
        "        'max_seq_length': 256,\n",
        "        'regression': False,\n",
        "        'learning_rate': 5e-5,\n",
        "        'weight_decay': 0.0,\n",
        "        'save_eval_checkpoints': False,\n",
        "        'save_model_every_epoch': False}"
      ]
    },
    {
      "cell_type": "code",
      "execution_count": null,
      "id": "0ef21b4f",
      "metadata": {
        "execution": {
          "iopub.execute_input": "2022-12-16T17:04:21.504635Z",
          "iopub.status.busy": "2022-12-16T17:04:21.503057Z",
          "iopub.status.idle": "2022-12-16T17:04:45.135012Z",
          "shell.execute_reply": "2022-12-16T17:04:45.134021Z"
        },
        "papermill": {
          "duration": 23.648086,
          "end_time": "2022-12-16T17:04:45.137628",
          "exception": false,
          "start_time": "2022-12-16T17:04:21.489542",
          "status": "completed"
        },
        "tags": [],
        "id": "0ef21b4f",
        "outputId": "cb50d133-4dfc-4ce4-f355-76ca0261ad9a",
        "colab": {
          "referenced_widgets": [
            "168476a5a51448b398600222fcb65bdc",
            "105a794505bd4b55a521c448870de0a5",
            "4a6e4c1427414280ae5202410ab8a166",
            "bdf758c62cc742c1bd5aef20a35bc68e",
            "49953fa48d6647eebeaec6a3177dcdd6"
          ]
        }
      },
      "outputs": [
        {
          "data": {
            "application/vnd.jupyter.widget-view+json": {
              "model_id": "168476a5a51448b398600222fcb65bdc",
              "version_major": 2,
              "version_minor": 0
            },
            "text/plain": [
              "Downloading:   0%|          | 0.00/570 [00:00<?, ?B/s]"
            ]
          },
          "metadata": {},
          "output_type": "display_data"
        },
        {
          "data": {
            "application/vnd.jupyter.widget-view+json": {
              "model_id": "105a794505bd4b55a521c448870de0a5",
              "version_major": 2,
              "version_minor": 0
            },
            "text/plain": [
              "Downloading:   0%|          | 0.00/440M [00:00<?, ?B/s]"
            ]
          },
          "metadata": {},
          "output_type": "display_data"
        },
        {
          "name": "stderr",
          "output_type": "stream",
          "text": [
            "Some weights of the model checkpoint at bert-base-uncased were not used when initializing BertForSequenceClassification: ['cls.predictions.decoder.weight', 'cls.predictions.transform.LayerNorm.bias', 'cls.seq_relationship.weight', 'cls.predictions.transform.LayerNorm.weight', 'cls.predictions.transform.dense.bias', 'cls.predictions.transform.dense.weight', 'cls.predictions.bias', 'cls.seq_relationship.bias']\n",
            "- This IS expected if you are initializing BertForSequenceClassification from the checkpoint of a model trained on another task or with another architecture (e.g. initializing a BertForSequenceClassification model from a BertForPreTraining model).\n",
            "- This IS NOT expected if you are initializing BertForSequenceClassification from the checkpoint of a model that you expect to be exactly identical (initializing a BertForSequenceClassification model from a BertForSequenceClassification model).\n",
            "Some weights of BertForSequenceClassification were not initialized from the model checkpoint at bert-base-uncased and are newly initialized: ['classifier.bias', 'classifier.weight']\n",
            "You should probably TRAIN this model on a down-stream task to be able to use it for predictions and inference.\n"
          ]
        },
        {
          "data": {
            "application/vnd.jupyter.widget-view+json": {
              "model_id": "4a6e4c1427414280ae5202410ab8a166",
              "version_major": 2,
              "version_minor": 0
            },
            "text/plain": [
              "Downloading:   0%|          | 0.00/28.0 [00:00<?, ?B/s]"
            ]
          },
          "metadata": {},
          "output_type": "display_data"
        },
        {
          "data": {
            "application/vnd.jupyter.widget-view+json": {
              "model_id": "bdf758c62cc742c1bd5aef20a35bc68e",
              "version_major": 2,
              "version_minor": 0
            },
            "text/plain": [
              "Downloading:   0%|          | 0.00/232k [00:00<?, ?B/s]"
            ]
          },
          "metadata": {},
          "output_type": "display_data"
        },
        {
          "data": {
            "application/vnd.jupyter.widget-view+json": {
              "model_id": "49953fa48d6647eebeaec6a3177dcdd6",
              "version_major": 2,
              "version_minor": 0
            },
            "text/plain": [
              "Downloading:   0%|          | 0.00/466k [00:00<?, ?B/s]"
            ]
          },
          "metadata": {},
          "output_type": "display_data"
        }
      ],
      "source": [
        "model = ClassificationModel('bert', 'bert-base-uncased', use_cuda=True, num_labels=4, args=args)"
      ]
    },
    {
      "cell_type": "code",
      "execution_count": null,
      "id": "dc9f39e6",
      "metadata": {
        "execution": {
          "iopub.execute_input": "2022-12-16T17:04:45.165732Z",
          "iopub.status.busy": "2022-12-16T17:04:45.165404Z",
          "iopub.status.idle": "2022-12-16T17:16:54.902232Z",
          "shell.execute_reply": "2022-12-16T17:16:54.901219Z"
        },
        "papermill": {
          "duration": 729.753476,
          "end_time": "2022-12-16T17:16:54.904712",
          "exception": false,
          "start_time": "2022-12-16T17:04:45.151236",
          "status": "completed"
        },
        "tags": [],
        "id": "dc9f39e6",
        "outputId": "3f7db541-59d2-498a-a257-b89c817253f0",
        "colab": {
          "referenced_widgets": [
            "d425ce90813e45cd85d4f3bff230e789",
            "07a24b961ac044a6a79d689d889af03d",
            "99b65d1f22ad42bc879b6e851607d06c",
            "ae2c4cd8930c4c8abffa661e1ec13ec8"
          ]
        }
      },
      "outputs": [
        {
          "data": {
            "application/vnd.jupyter.widget-view+json": {
              "model_id": "d425ce90813e45cd85d4f3bff230e789",
              "version_major": 2,
              "version_minor": 0
            },
            "text/plain": [
              "  0%|          | 0/15472 [00:00<?, ?it/s]"
            ]
          },
          "metadata": {},
          "output_type": "display_data"
        },
        {
          "data": {
            "application/vnd.jupyter.widget-view+json": {
              "model_id": "07a24b961ac044a6a79d689d889af03d",
              "version_major": 2,
              "version_minor": 0
            },
            "text/plain": [
              "Epoch:   0%|          | 0/2 [00:00<?, ?it/s]"
            ]
          },
          "metadata": {},
          "output_type": "display_data"
        },
        {
          "data": {
            "application/vnd.jupyter.widget-view+json": {
              "model_id": "99b65d1f22ad42bc879b6e851607d06c",
              "version_major": 2,
              "version_minor": 0
            },
            "text/plain": [
              "Running Epoch 0 of 2:   0%|          | 0/484 [00:00<?, ?it/s]"
            ]
          },
          "metadata": {},
          "output_type": "display_data"
        },
        {
          "data": {
            "application/vnd.jupyter.widget-view+json": {
              "model_id": "ae2c4cd8930c4c8abffa661e1ec13ec8",
              "version_major": 2,
              "version_minor": 0
            },
            "text/plain": [
              "Running Epoch 1 of 2:   0%|          | 0/484 [00:00<?, ?it/s]"
            ]
          },
          "metadata": {},
          "output_type": "display_data"
        },
        {
          "data": {
            "text/plain": [
              "(968, 0.4755143125287511)"
            ]
          },
          "execution_count": 20,
          "metadata": {},
          "output_type": "execute_result"
        }
      ],
      "source": [
        "model.train_model(train)"
      ]
    },
    {
      "cell_type": "code",
      "execution_count": null,
      "id": "8abd8074",
      "metadata": {
        "execution": {
          "iopub.execute_input": "2022-12-16T17:16:54.935692Z",
          "iopub.status.busy": "2022-12-16T17:16:54.935304Z",
          "iopub.status.idle": "2022-12-16T17:17:37.036648Z",
          "shell.execute_reply": "2022-12-16T17:17:37.035705Z"
        },
        "papermill": {
          "duration": 42.119364,
          "end_time": "2022-12-16T17:17:37.038827",
          "exception": false,
          "start_time": "2022-12-16T17:16:54.919463",
          "status": "completed"
        },
        "tags": [],
        "id": "8abd8074",
        "outputId": "8a5fd52e-8407-4841-e28f-f3f4c6262ddc",
        "colab": {
          "referenced_widgets": [
            "00a2d64261434a188289d1edd4dd56c5",
            "f200ec0613454bea8f29603c19588c51"
          ]
        }
      },
      "outputs": [
        {
          "data": {
            "application/vnd.jupyter.widget-view+json": {
              "model_id": "00a2d64261434a188289d1edd4dd56c5",
              "version_major": 2,
              "version_minor": 0
            },
            "text/plain": [
              "  0%|          | 0/4844 [00:00<?, ?it/s]"
            ]
          },
          "metadata": {},
          "output_type": "display_data"
        },
        {
          "data": {
            "application/vnd.jupyter.widget-view+json": {
              "model_id": "f200ec0613454bea8f29603c19588c51",
              "version_major": 2,
              "version_minor": 0
            },
            "text/plain": [
              "Running Evaluation:   0%|          | 0/606 [00:00<?, ?it/s]"
            ]
          },
          "metadata": {},
          "output_type": "display_data"
        }
      ],
      "source": [
        "res_b, output_b, wrong_pred_b = model.eval_model(test)"
      ]
    },
    {
      "cell_type": "code",
      "execution_count": null,
      "id": "fe97767a",
      "metadata": {
        "execution": {
          "iopub.execute_input": "2022-12-16T17:17:37.069242Z",
          "iopub.status.busy": "2022-12-16T17:17:37.068903Z",
          "iopub.status.idle": "2022-12-16T17:17:37.075512Z",
          "shell.execute_reply": "2022-12-16T17:17:37.074676Z"
        },
        "papermill": {
          "duration": 0.024045,
          "end_time": "2022-12-16T17:17:37.077473",
          "exception": false,
          "start_time": "2022-12-16T17:17:37.053428",
          "status": "completed"
        },
        "tags": [],
        "id": "fe97767a"
      },
      "outputs": [],
      "source": [
        "soft_b = softmax(output_b, axis=1)"
      ]
    },
    {
      "cell_type": "code",
      "execution_count": null,
      "id": "16fc2df4",
      "metadata": {
        "execution": {
          "iopub.execute_input": "2022-12-16T17:17:37.108911Z",
          "iopub.status.busy": "2022-12-16T17:17:37.107963Z",
          "iopub.status.idle": "2022-12-16T17:17:37.115421Z",
          "shell.execute_reply": "2022-12-16T17:17:37.114443Z"
        },
        "papermill": {
          "duration": 0.025521,
          "end_time": "2022-12-16T17:17:37.117398",
          "exception": false,
          "start_time": "2022-12-16T17:17:37.091877",
          "status": "completed"
        },
        "tags": [],
        "id": "16fc2df4",
        "outputId": "0c7922bf-e0ec-4aed-9067-c6907b4e7d60"
      },
      "outputs": [
        {
          "data": {
            "text/plain": [
              "array([1, 0, 2, ..., 1, 1, 1])"
            ]
          },
          "execution_count": 23,
          "metadata": {},
          "output_type": "execute_result"
        }
      ],
      "source": [
        "pred_b = np.argmax(output_b, axis=-1)\n",
        "pred_b"
      ]
    },
    {
      "cell_type": "code",
      "execution_count": null,
      "id": "6511db50",
      "metadata": {
        "execution": {
          "iopub.execute_input": "2022-12-16T17:17:37.147051Z",
          "iopub.status.busy": "2022-12-16T17:17:37.146228Z",
          "iopub.status.idle": "2022-12-16T17:17:37.157665Z",
          "shell.execute_reply": "2022-12-16T17:17:37.156793Z"
        },
        "papermill": {
          "duration": 0.02836,
          "end_time": "2022-12-16T17:17:37.159750",
          "exception": false,
          "start_time": "2022-12-16T17:17:37.131390",
          "status": "completed"
        },
        "tags": [],
        "id": "6511db50"
      },
      "outputs": [],
      "source": [
        "sub['label'] = pred_b\n",
        "sub.to_csv('res_bert.csv', index=False)"
      ]
    },
    {
      "cell_type": "markdown",
      "id": "2a59ec3e",
      "metadata": {
        "papermill": {
          "duration": 0.01426,
          "end_time": "2022-12-16T17:17:37.188586",
          "exception": false,
          "start_time": "2022-12-16T17:17:37.174326",
          "status": "completed"
        },
        "tags": [],
        "id": "2a59ec3e"
      },
      "source": [
        "## Ensemble"
      ]
    },
    {
      "cell_type": "code",
      "execution_count": null,
      "id": "b2869a2b",
      "metadata": {
        "execution": {
          "iopub.execute_input": "2022-12-16T17:17:37.219480Z",
          "iopub.status.busy": "2022-12-16T17:17:37.219096Z",
          "iopub.status.idle": "2022-12-16T17:17:37.226666Z",
          "shell.execute_reply": "2022-12-16T17:17:37.225567Z"
        },
        "papermill": {
          "duration": 0.025638,
          "end_time": "2022-12-16T17:17:37.228874",
          "exception": false,
          "start_time": "2022-12-16T17:17:37.203236",
          "status": "completed"
        },
        "tags": [],
        "id": "b2869a2b",
        "outputId": "c8ba614d-2b37-4f4c-9703-9a05d82b7ba6"
      },
      "outputs": [
        {
          "data": {
            "text/plain": [
              "array([1, 0, 2, ..., 1, 1, 1])"
            ]
          },
          "execution_count": 25,
          "metadata": {},
          "output_type": "execute_result"
        }
      ],
      "source": [
        "pred_e = np.argmax(soft_r + soft_b, axis=-1)\n",
        "pred_e"
      ]
    },
    {
      "cell_type": "code",
      "execution_count": null,
      "id": "65624a42",
      "metadata": {
        "execution": {
          "iopub.execute_input": "2022-12-16T17:17:37.260392Z",
          "iopub.status.busy": "2022-12-16T17:17:37.259520Z",
          "iopub.status.idle": "2022-12-16T17:17:37.269624Z",
          "shell.execute_reply": "2022-12-16T17:17:37.268792Z"
        },
        "papermill": {
          "duration": 0.027432,
          "end_time": "2022-12-16T17:17:37.271661",
          "exception": false,
          "start_time": "2022-12-16T17:17:37.244229",
          "status": "completed"
        },
        "tags": [],
        "id": "65624a42"
      },
      "outputs": [],
      "source": [
        "sub['label'] = pred_e\n",
        "sub.to_csv('res_ensemble.csv', index=False)"
      ]
    }
  ],
  "metadata": {
    "kernelspec": {
      "display_name": "Python 3",
      "language": "python",
      "name": "python3"
    },
    "language_info": {
      "codemirror_mode": {
        "name": "ipython",
        "version": 3
      },
      "file_extension": ".py",
      "mimetype": "text/x-python",
      "name": "python",
      "nbconvert_exporter": "python",
      "pygments_lexer": "ipython3",
      "version": "3.7.12"
    },
    "papermill": {
      "default_parameters": {},
      "duration": 2415.385799,
      "end_time": "2022-12-16T17:17:40.639847",
      "environment_variables": {},
      "exception": null,
      "input_path": "__notebook__.ipynb",
      "output_path": "__notebook__.ipynb",
      "parameters": {},
      "start_time": "2022-12-16T16:37:25.254048",
      "version": "2.3.4"
    },
    "widgets": {
      "application/vnd.jupyter.widget-state+json": {}
    },
    "colab": {
      "provenance": []
    }
  },
  "nbformat": 4,
  "nbformat_minor": 5
}