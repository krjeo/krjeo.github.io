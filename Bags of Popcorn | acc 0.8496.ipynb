{
  "metadata": {
    "kernelspec": {
      "language": "python",
      "display_name": "Python 3",
      "name": "python3"
    },
    "language_info": {
      "name": "python",
      "version": "3.7.12",
      "mimetype": "text/x-python",
      "codemirror_mode": {
        "name": "ipython",
        "version": 3
      },
      "pygments_lexer": "ipython3",
      "nbconvert_exporter": "python",
      "file_extension": ".py"
    },
    "colab": {
      "provenance": []
    }
  },
  "nbformat_minor": 0,
  "nbformat": 4,
  "cells": [
    {
      "cell_type": "code",
      "source": [
        "import warnings\n",
        "warnings.filterwarnings('ignore')\n",
        "\n",
        "import numpy as np\n",
        "import pandas as pd\n",
        "\n",
        "from tensorflow.keras import Sequential\n",
        "from tensorflow.keras.layers import *\n",
        "\n",
        "import os\n",
        "for dirname, _, filenames in os.walk('/kaggle/input'):\n",
        "    for filename in filenames:\n",
        "        print(os.path.join(dirname, filename))"
      ],
      "metadata": {
        "execution": {
          "iopub.status.busy": "2022-12-07T20:03:59.567584Z",
          "iopub.execute_input": "2022-12-07T20:03:59.567960Z",
          "iopub.status.idle": "2022-12-07T20:04:06.126258Z",
          "shell.execute_reply.started": "2022-12-07T20:03:59.567888Z",
          "shell.execute_reply": "2022-12-07T20:04:06.124431Z"
        },
        "trusted": true,
        "id": "POpxhP-w5R4E",
        "outputId": "e053d93f-fbfe-473c-890a-40a13cb22bff"
      },
      "execution_count": null,
      "outputs": [
        {
          "name": "stdout",
          "text": "/kaggle/input/word2vec-nlp-tutorial/testData.tsv.zip\n/kaggle/input/word2vec-nlp-tutorial/sampleSubmission.csv\n/kaggle/input/word2vec-nlp-tutorial/unlabeledTrainData.tsv.zip\n/kaggle/input/word2vec-nlp-tutorial/labeledTrainData.tsv.zip\n",
          "output_type": "stream"
        }
      ]
    },
    {
      "cell_type": "markdown",
      "source": [
        "## Submission File Check"
      ],
      "metadata": {
        "id": "MszoPkLL5R4H"
      }
    },
    {
      "cell_type": "code",
      "source": [
        "sub = pd.read_csv('/kaggle/input/word2vec-nlp-tutorial/sampleSubmission.csv')\n",
        "sub.head()"
      ],
      "metadata": {
        "execution": {
          "iopub.status.busy": "2022-12-07T20:04:10.527280Z",
          "iopub.execute_input": "2022-12-07T20:04:10.528533Z",
          "iopub.status.idle": "2022-12-07T20:04:10.577958Z",
          "shell.execute_reply.started": "2022-12-07T20:04:10.528486Z",
          "shell.execute_reply": "2022-12-07T20:04:10.576759Z"
        },
        "trusted": true,
        "id": "C7eq6rAW5R4I",
        "outputId": "a9846e3c-080c-486d-e2c4-74ed7eab72be"
      },
      "execution_count": null,
      "outputs": [
        {
          "execution_count": 2,
          "output_type": "execute_result",
          "data": {
            "text/plain": "         id  sentiment\n0  12311_10          0\n1    8348_2          0\n2    5828_4          0\n3    7186_2          0\n4   12128_7          0",
            "text/html": "<div>\n<style scoped>\n    .dataframe tbody tr th:only-of-type {\n        vertical-align: middle;\n    }\n\n    .dataframe tbody tr th {\n        vertical-align: top;\n    }\n\n    .dataframe thead th {\n        text-align: right;\n    }\n</style>\n<table border=\"1\" class=\"dataframe\">\n  <thead>\n    <tr style=\"text-align: right;\">\n      <th></th>\n      <th>id</th>\n      <th>sentiment</th>\n    </tr>\n  </thead>\n  <tbody>\n    <tr>\n      <th>0</th>\n      <td>12311_10</td>\n      <td>0</td>\n    </tr>\n    <tr>\n      <th>1</th>\n      <td>8348_2</td>\n      <td>0</td>\n    </tr>\n    <tr>\n      <th>2</th>\n      <td>5828_4</td>\n      <td>0</td>\n    </tr>\n    <tr>\n      <th>3</th>\n      <td>7186_2</td>\n      <td>0</td>\n    </tr>\n    <tr>\n      <th>4</th>\n      <td>12128_7</td>\n      <td>0</td>\n    </tr>\n  </tbody>\n</table>\n</div>"
          },
          "metadata": {}
        }
      ]
    },
    {
      "cell_type": "markdown",
      "source": [
        "## Data"
      ],
      "metadata": {
        "id": "hfTl50yc5R4J"
      }
    },
    {
      "cell_type": "code",
      "source": [
        "train = pd.read_csv('/kaggle/input/word2vec-nlp-tutorial/labeledTrainData.tsv.zip', delimiter='\\t')\n",
        "train.head()"
      ],
      "metadata": {
        "execution": {
          "iopub.status.busy": "2022-12-07T20:04:13.955034Z",
          "iopub.execute_input": "2022-12-07T20:04:13.955379Z",
          "iopub.status.idle": "2022-12-07T20:04:14.667727Z",
          "shell.execute_reply.started": "2022-12-07T20:04:13.955353Z",
          "shell.execute_reply": "2022-12-07T20:04:14.666015Z"
        },
        "trusted": true,
        "id": "kyexKK7O5R4J",
        "outputId": "da744a09-555b-417b-c6f5-b49162692077"
      },
      "execution_count": null,
      "outputs": [
        {
          "execution_count": 3,
          "output_type": "execute_result",
          "data": {
            "text/plain": "       id  sentiment                                             review\n0  5814_8          1  With all this stuff going down at the moment w...\n1  2381_9          1  \\The Classic War of the Worlds\\\" by Timothy Hi...\n2  7759_3          0  The film starts with a manager (Nicholas Bell)...\n3  3630_4          0  It must be assumed that those who praised this...\n4  9495_8          1  Superbly trashy and wondrously unpretentious 8...",
            "text/html": "<div>\n<style scoped>\n    .dataframe tbody tr th:only-of-type {\n        vertical-align: middle;\n    }\n\n    .dataframe tbody tr th {\n        vertical-align: top;\n    }\n\n    .dataframe thead th {\n        text-align: right;\n    }\n</style>\n<table border=\"1\" class=\"dataframe\">\n  <thead>\n    <tr style=\"text-align: right;\">\n      <th></th>\n      <th>id</th>\n      <th>sentiment</th>\n      <th>review</th>\n    </tr>\n  </thead>\n  <tbody>\n    <tr>\n      <th>0</th>\n      <td>5814_8</td>\n      <td>1</td>\n      <td>With all this stuff going down at the moment w...</td>\n    </tr>\n    <tr>\n      <th>1</th>\n      <td>2381_9</td>\n      <td>1</td>\n      <td>\\The Classic War of the Worlds\\\" by Timothy Hi...</td>\n    </tr>\n    <tr>\n      <th>2</th>\n      <td>7759_3</td>\n      <td>0</td>\n      <td>The film starts with a manager (Nicholas Bell)...</td>\n    </tr>\n    <tr>\n      <th>3</th>\n      <td>3630_4</td>\n      <td>0</td>\n      <td>It must be assumed that those who praised this...</td>\n    </tr>\n    <tr>\n      <th>4</th>\n      <td>9495_8</td>\n      <td>1</td>\n      <td>Superbly trashy and wondrously unpretentious 8...</td>\n    </tr>\n  </tbody>\n</table>\n</div>"
          },
          "metadata": {}
        }
      ]
    },
    {
      "cell_type": "code",
      "source": [
        "test = pd.read_csv('/kaggle/input/word2vec-nlp-tutorial/testData.tsv.zip', delimiter='\\t')\n",
        "test.head()"
      ],
      "metadata": {
        "execution": {
          "iopub.status.busy": "2022-12-07T20:04:16.371871Z",
          "iopub.execute_input": "2022-12-07T20:04:16.372270Z",
          "iopub.status.idle": "2022-12-07T20:04:17.054069Z",
          "shell.execute_reply.started": "2022-12-07T20:04:16.372236Z",
          "shell.execute_reply": "2022-12-07T20:04:17.053033Z"
        },
        "trusted": true,
        "id": "5OEYnx8n5R4J",
        "outputId": "a2138adc-79dd-4c14-a26f-4704acaa76cf"
      },
      "execution_count": null,
      "outputs": [
        {
          "execution_count": 4,
          "output_type": "execute_result",
          "data": {
            "text/plain": "         id                                             review\n0  12311_10  Naturally in a film who's main themes are of m...\n1    8348_2  This movie is a disaster within a disaster fil...\n2    5828_4  All in all, this is a movie for kids. We saw i...\n3    7186_2  Afraid of the Dark left me with the impression...\n4   12128_7  A very accurate depiction of small time mob li...",
            "text/html": "<div>\n<style scoped>\n    .dataframe tbody tr th:only-of-type {\n        vertical-align: middle;\n    }\n\n    .dataframe tbody tr th {\n        vertical-align: top;\n    }\n\n    .dataframe thead th {\n        text-align: right;\n    }\n</style>\n<table border=\"1\" class=\"dataframe\">\n  <thead>\n    <tr style=\"text-align: right;\">\n      <th></th>\n      <th>id</th>\n      <th>review</th>\n    </tr>\n  </thead>\n  <tbody>\n    <tr>\n      <th>0</th>\n      <td>12311_10</td>\n      <td>Naturally in a film who's main themes are of m...</td>\n    </tr>\n    <tr>\n      <th>1</th>\n      <td>8348_2</td>\n      <td>This movie is a disaster within a disaster fil...</td>\n    </tr>\n    <tr>\n      <th>2</th>\n      <td>5828_4</td>\n      <td>All in all, this is a movie for kids. We saw i...</td>\n    </tr>\n    <tr>\n      <th>3</th>\n      <td>7186_2</td>\n      <td>Afraid of the Dark left me with the impression...</td>\n    </tr>\n    <tr>\n      <th>4</th>\n      <td>12128_7</td>\n      <td>A very accurate depiction of small time mob li...</td>\n    </tr>\n  </tbody>\n</table>\n</div>"
          },
          "metadata": {}
        }
      ]
    },
    {
      "cell_type": "markdown",
      "source": [
        "## Preprocessing"
      ],
      "metadata": {
        "id": "89PhN2re5R4K"
      }
    },
    {
      "cell_type": "code",
      "source": [
        "review = pd.concat([train['review'], test['review']])\n",
        "review"
      ],
      "metadata": {
        "execution": {
          "iopub.status.busy": "2022-12-07T20:04:18.527011Z",
          "iopub.execute_input": "2022-12-07T20:04:18.527401Z",
          "iopub.status.idle": "2022-12-07T20:04:18.545076Z",
          "shell.execute_reply.started": "2022-12-07T20:04:18.527370Z",
          "shell.execute_reply": "2022-12-07T20:04:18.543418Z"
        },
        "trusted": true,
        "id": "yNVUE8Mv5R4K",
        "outputId": "13905b7d-da0e-4dae-e840-620e3c24f216"
      },
      "execution_count": null,
      "outputs": [
        {
          "execution_count": 5,
          "output_type": "execute_result",
          "data": {
            "text/plain": "0        With all this stuff going down at the moment w...\n1        \\The Classic War of the Worlds\\\" by Timothy Hi...\n2        The film starts with a manager (Nicholas Bell)...\n3        It must be assumed that those who praised this...\n4        Superbly trashy and wondrously unpretentious 8...\n                               ...                        \n24995    Sony Pictures Classics, I'm looking at you! So...\n24996    I always felt that Ms. Merkerson had never got...\n24997    I was so disappointed in this movie. I am very...\n24998    From the opening sequence, filled with black a...\n24999    This is a great horror film for people who don...\nName: review, Length: 50000, dtype: object"
          },
          "metadata": {}
        }
      ]
    },
    {
      "cell_type": "code",
      "source": [
        "from tensorflow.keras.preprocessing.text import Tokenizer\n",
        "tk = Tokenizer()\n",
        "tk.fit_on_texts(review)"
      ],
      "metadata": {
        "execution": {
          "iopub.status.busy": "2022-12-07T20:04:20.416675Z",
          "iopub.execute_input": "2022-12-07T20:04:20.417019Z",
          "iopub.status.idle": "2022-12-07T20:04:30.449404Z",
          "shell.execute_reply.started": "2022-12-07T20:04:20.416995Z",
          "shell.execute_reply": "2022-12-07T20:04:30.448041Z"
        },
        "trusted": true,
        "id": "7fHfwEPI5R4K"
      },
      "execution_count": null,
      "outputs": []
    },
    {
      "cell_type": "code",
      "source": [
        "tseq = tk.texts_to_sequences(review)\n",
        "tseq[0]"
      ],
      "metadata": {
        "execution": {
          "iopub.status.busy": "2022-12-07T20:04:40.333738Z",
          "iopub.execute_input": "2022-12-07T20:04:40.334120Z",
          "iopub.status.idle": "2022-12-07T20:04:47.898523Z",
          "shell.execute_reply.started": "2022-12-07T20:04:40.334088Z",
          "shell.execute_reply": "2022-12-07T20:04:47.897516Z"
        },
        "collapsed": true,
        "jupyter": {
          "outputs_hidden": true
        },
        "trusted": true,
        "id": "bPq6jGPV5R4L",
        "outputId": "d64dd4b5-c375-475b-c6c5-7cfb63bccae3"
      },
      "execution_count": null,
      "outputs": [
        {
          "execution_count": 7,
          "output_type": "execute_result",
          "data": {
            "text/plain": "[16,\n 29,\n 11,\n 517,\n 166,\n 175,\n 30,\n 1,\n 565,\n 16,\n 12486,\n 198,\n 654,\n 2655,\n 5,\n 24,\n 207,\n 147,\n 1,\n 1036,\n 640,\n 133,\n 2,\n 46,\n 287,\n 1,\n 25421,\n 2,\n 287,\n 17516,\n 172,\n 273,\n 10,\n 39,\n 178,\n 5,\n 76,\n 3,\n 764,\n 2618,\n 82,\n 11,\n 219,\n 35,\n 10,\n 190,\n 13,\n 62,\n 593,\n 8,\n 1,\n 3971,\n 39,\n 5,\n 273,\n 94,\n 53,\n 56,\n 323,\n 723,\n 28,\n 6,\n 2415,\n 38,\n 1324,\n 17516,\n 6,\n 173,\n 4848,\n 173,\n 785,\n 19,\n 60,\n 10,\n 382,\n 166,\n 5,\n 63,\n 30,\n 1,\n 443,\n 50,\n 9,\n 13,\n 1894,\n 613,\n 47,\n 4,\n 9,\n 45,\n 1284,\n 3639,\n 42,\n 29378,\n 558,\n 944,\n 1,\n 3599,\n 2,\n 81,\n 1,\n 595,\n 750,\n 4,\n 1479,\n 23,\n 74,\n 71839,\n 7,\n 7,\n 2141,\n 1186,\n 18,\n 4,\n 265,\n 11,\n 6,\n 29,\n 42,\n 498,\n 1834,\n 34,\n 886,\n 22,\n 2628,\n 37,\n 12486,\n 8,\n 548,\n 91,\n 22,\n 23,\n 166,\n 5,\n 737,\n 11,\n 2,\n 165,\n 9,\n 348,\n 47,\n 200,\n 655,\n 12486,\n 32,\n 35685,\n 15,\n 31140,\n 5,\n 1,\n 232,\n 4,\n 11,\n 17,\n 18,\n 12486,\n 2,\n 88,\n 4,\n 24,\n 455,\n 58,\n 131,\n 12,\n 28,\n 90,\n 9,\n 15,\n 1,\n 455,\n 60,\n 43,\n 289,\n 6,\n 62,\n 331,\n 4,\n 87,\n 7,\n 7,\n 1,\n 823,\n 785,\n 19,\n 226,\n 50,\n 9,\n 415,\n 537,\n 6,\n 61,\n 20,\n 15,\n 857,\n 228,\n 38,\n 34,\n 16740,\n 1,\n 4197,\n 1785,\n 707,\n 2,\n 990,\n 11648,\n 6,\n 1091,\n 14,\n 3,\n 12144,\n 29,\n 962,\n 1135,\n 1779,\n 134,\n 28,\n 487,\n 12486,\n 349,\n 34,\n 74,\n 6,\n 671,\n 68,\n 84,\n 12486,\n 18415,\n 24,\n 2354,\n 16387,\n 990,\n 33191,\n 108,\n 38710,\n 12,\n 28,\n 461,\n 83,\n 5,\n 118,\n 9,\n 6,\n 28,\n 35,\n 6,\n 17949,\n 1479,\n 506,\n 34,\n 10,\n 10168,\n 273,\n 28,\n 39,\n 4270,\n 29378,\n 207,\n 7,\n 7,\n 741,\n 4,\n 593,\n 177,\n 8,\n 11,\n 37,\n 12486,\n 1615,\n 82,\n 3,\n 520,\n 2,\n 3,\n 2363,\n 2,\n 1,\n 223,\n 2217,\n 2488,\n 707,\n 81,\n 1,\n 164,\n 206,\n 25,\n 66,\n 1,\n 4780,\n 4,\n 3,\n 5628,\n 50,\n 9,\n 384,\n 5,\n 1385,\n 1,\n 31141,\n 74,\n 707,\n 14,\n 631,\n 971,\n 737,\n 765,\n 16,\n 27,\n 553,\n 379,\n 624,\n 3,\n 223,\n 758,\n 4,\n 93,\n 3425,\n 3,\n 1300,\n 869,\n 129,\n 7,\n 7,\n 1305,\n 347,\n 11,\n 17,\n 6,\n 15,\n 83,\n 35,\n 37,\n 12486,\n 20,\n 27,\n 652,\n 38,\n 156,\n 60,\n 10,\n 101,\n 6,\n 88,\n 83,\n 43,\n 21,\n 91,\n 776,\n 243,\n 9,\n 124,\n 352,\n 2,\n 197,\n 122,\n 3,\n 7769,\n 750,\n 2,\n 3574,\n 29378,\n 38711,\n 1867,\n 8,\n 11,\n 17,\n 6,\n 3,\n 250,\n 498,\n 1834,\n 6,\n 371,\n 27,\n 4,\n 1,\n 88,\n 1024,\n 83,\n 123,\n 5,\n 1619,\n 11,\n 1347,\n 18,\n 6,\n 28,\n 2415,\n 69,\n 16,\n 29,\n 1,\n 686,\n 198,\n 514,\n 11,\n 802,\n 7308,\n 69,\n 10,\n 89,\n 118,\n 84,\n 83,\n 67,\n 26,\n 279,\n 515,\n 3941,\n 3542,\n 10,\n 118,\n 11,\n 15,\n 3,\n 192,\n 28,\n 6,\n 346,\n 32,\n 568,\n 331,\n 18,\n 364,\n 219,\n 38,\n 27,\n 4,\n 1,\n 88,\n 19959,\n 19960,\n 10,\n 433,\n 28,\n 6,\n 21,\n 1,\n 1598]"
          },
          "metadata": {}
        }
      ]
    },
    {
      "cell_type": "markdown",
      "source": [
        "before fixing maxlen param of tpad, lets check the length of each tseqs.<br>\n",
        "300 is seemingly moderate for maxlen."
      ],
      "metadata": {
        "id": "3UdsMCjT5R4L"
      }
    },
    {
      "cell_type": "code",
      "source": [
        "%matplotlib inline\n",
        "import matplotlib.pyplot as plt\n",
        "plt.xlim(0, 400)\n",
        "plt.hist([len(t) for t in tseq], bins=range(0, 401, 25))\n",
        "plt.show()"
      ],
      "metadata": {
        "execution": {
          "iopub.status.busy": "2022-12-07T20:04:50.719153Z",
          "iopub.execute_input": "2022-12-07T20:04:50.719973Z",
          "iopub.status.idle": "2022-12-07T20:04:51.074084Z",
          "shell.execute_reply.started": "2022-12-07T20:04:50.719936Z",
          "shell.execute_reply": "2022-12-07T20:04:51.072815Z"
        },
        "trusted": true,
        "id": "nIIVum3s5R4M",
        "outputId": "b6427893-8cec-4d74-ac04-6839ba8e5062"
      },
      "execution_count": null,
      "outputs": [
        {
          "output_type": "display_data",
          "data": {
            "text/plain": "<Figure size 432x288 with 1 Axes>",
            "image/png": "[encoded data removed]"
          },
          "metadata": {
            "needs_background": "light"
          }
        }
      ]
    },
    {
      "cell_type": "code",
      "source": [
        "from tensorflow.keras.preprocessing.sequence import pad_sequences\n",
        "tpad = pad_sequences(tseq, maxlen=300)\n",
        "tpad[42]"
      ],
      "metadata": {
        "execution": {
          "iopub.status.busy": "2022-12-07T20:04:53.049445Z",
          "iopub.execute_input": "2022-12-07T20:04:53.049871Z",
          "iopub.status.idle": "2022-12-07T20:04:53.589172Z",
          "shell.execute_reply.started": "2022-12-07T20:04:53.049838Z",
          "shell.execute_reply": "2022-12-07T20:04:53.588132Z"
        },
        "collapsed": true,
        "jupyter": {
          "outputs_hidden": true
        },
        "trusted": true,
        "id": "r7X9rxOM5R4M",
        "outputId": "805ebcd0-b067-42dd-fdd1-5c3be094b8ff"
      },
      "execution_count": null,
      "outputs": [
        {
          "execution_count": 9,
          "output_type": "execute_result",
          "data": {
            "text/plain": "array([    0,     0,     0,     0,     0,     0,     0,     0,     0,\n           0,     0,     0,     0,     0,     0,     0,     0,     0,\n           0,     0,     0,     0,     0,     0,     0,     0,     0,\n           0,     0,     0,     0,     0,     0,     0,     0,     0,\n           0,     0,     0,     0,     0,     0,     0,     0,     0,\n           0,     0,     0,     0,     0,     0,     0,     0,     0,\n           0,     0,     0,     0,     0,     0,     0,     0,     0,\n           0,     0,     0,     0,     0,     0,     0,     0,     0,\n           0,     0,     0,     0,     0,     0,     0,     0,     0,\n           0,     0,     0,     0,     0,     0,     0,     0,     0,\n           0,     0,     0,     0,     0,     0,     0,     0,     0,\n           0,     0,     0,     0,     0,     0,     0,     0,     0,\n           0,     0,     0,     0,     0,     0,     0,     0,     0,\n           0,     0,     0,     0,     0,     0,     0,     0,     0,\n           0,     0,     0,     0,     0,     0,     0,     0,     0,\n           0,     0,     0,     0,     0,     0,     0,     0,     0,\n           0,     0,     0,     0,     0,     0,     0,     0,     0,\n           0,     0,     0,     0,     0,     0,     0,     0,     0,\n           0,     0,     0,     0,     0,  5031, 42651, 16749, 38721,\n        1984,     4,   552,     6,    32,  3463,  3274,  9599,    12,\n        2802,    20,    29, 11969,     9,   285,   419,   311,     8,\n         317,   452,     2,     9,    45,  1748,   977,  3369,  7723,\n        1843,  3422,     6,    32,   608,  4400,    35, 11652,    32,\n        2569,    16,  5032,   283,   182,   563,  4401,  9211,  7245,\n        7245, 12153,  3422,    12,    28,   185,  1155,    27,   316,\n           8,     1,  2547,  3657,     4, 16068,   444,  1689, 19966,\n        6422,     1, 14818,  3422,     6,  3305,     8,     1,  3657,\n           2,     1,   182,   836,     1,    19,     6,   568,  3274,\n           2,     9,  1820,     1,   603,    41,     4,    68,     1,\n        9417,   707,     6,    62,  3463,     2,     1,  1090,     6,\n         216,  3957,  2166,  8094,   285,   950,   311,    14,  2963,\n       24425, 11803, 19966,  1984,     4,   552,     6,   736,    27,\n           4,     1,   116,  1049,   182,    97,    90,     8,   404,\n        2945,     3,   922], dtype=int32)"
          },
          "metadata": {}
        }
      ]
    },
    {
      "cell_type": "code",
      "source": [
        "train_x = tpad[:25000]\n",
        "test = tpad[25000:]\n",
        "train_y = train['sentiment']"
      ],
      "metadata": {
        "execution": {
          "iopub.status.busy": "2022-12-07T20:04:57.260729Z",
          "iopub.execute_input": "2022-12-07T20:04:57.261117Z",
          "iopub.status.idle": "2022-12-07T20:04:57.266430Z",
          "shell.execute_reply.started": "2022-12-07T20:04:57.261085Z",
          "shell.execute_reply": "2022-12-07T20:04:57.265372Z"
        },
        "trusted": true,
        "id": "vcQb3fzl5R4M"
      },
      "execution_count": null,
      "outputs": []
    },
    {
      "cell_type": "code",
      "source": [
        "train_x.shape"
      ],
      "metadata": {
        "execution": {
          "iopub.status.busy": "2022-12-07T20:04:59.626612Z",
          "iopub.execute_input": "2022-12-07T20:04:59.627203Z",
          "iopub.status.idle": "2022-12-07T20:04:59.634030Z",
          "shell.execute_reply.started": "2022-12-07T20:04:59.627164Z",
          "shell.execute_reply": "2022-12-07T20:04:59.632584Z"
        },
        "trusted": true,
        "id": "-B_FqQ1Y5R4N",
        "outputId": "586dfdca-380e-46ac-c286-0a2a91e2001e"
      },
      "execution_count": null,
      "outputs": [
        {
          "execution_count": 11,
          "output_type": "execute_result",
          "data": {
            "text/plain": "(25000, 300)"
          },
          "metadata": {}
        }
      ]
    },
    {
      "cell_type": "markdown",
      "source": [
        "## Simple RNN Model acc:0.76416"
      ],
      "metadata": {
        "id": "nfuHo8vJ5R4N"
      }
    },
    {
      "cell_type": "code",
      "source": [
        "model = Sequential()\n",
        "model.add(Embedding(len(tk.word_index)+1, 256, input_length=300))\n",
        "model.add(SimpleRNN(10))\n",
        "model.add(Dense(1, activation='sigmoid'))\n",
        "model.summary()"
      ],
      "metadata": {
        "trusted": true,
        "id": "cPpln2A25R4N"
      },
      "execution_count": null,
      "outputs": []
    },
    {
      "cell_type": "code",
      "source": [
        "model.compile(loss='binary_crossentropy', optimizer='adam', metrics='acc')"
      ],
      "metadata": {
        "trusted": true,
        "id": "clDKqRs-5R4N"
      },
      "execution_count": null,
      "outputs": []
    },
    {
      "cell_type": "code",
      "source": [
        "hist = model.fit(train_x, train_y, batch_size=40, epochs=5, validation_split=0.2)"
      ],
      "metadata": {
        "trusted": true,
        "id": "7Ot6kl_f5R4N"
      },
      "execution_count": null,
      "outputs": []
    },
    {
      "cell_type": "code",
      "source": [
        "res = model.predict(test)\n",
        "res"
      ],
      "metadata": {
        "trusted": true,
        "id": "NFMBV5mi5R4O"
      },
      "execution_count": null,
      "outputs": []
    },
    {
      "cell_type": "code",
      "source": [
        "sub['sentiment'] = (res > 0.5) * 1\n",
        "sub.to_csv('res.csv', index=False)"
      ],
      "metadata": {
        "trusted": true,
        "id": "M4CQEwut5R4O"
      },
      "execution_count": null,
      "outputs": []
    },
    {
      "cell_type": "markdown",
      "source": [
        "## LSTM Model acc: 0.8496"
      ],
      "metadata": {
        "id": "rXjcD7LK5R4O"
      }
    },
    {
      "cell_type": "code",
      "source": [
        "model = Sequential()\n",
        "model.add(Embedding(len(tk.word_index)+1, 256, input_length=300))\n",
        "model.add(LSTM(64, recurrent_dropout=0.1))\n",
        "model.add(Dropout(0.25))\n",
        "model.add(Dense(32, activation='relu'))\n",
        "model.add(Dropout(0.25))\n",
        "model.add(Dense(1, activation='sigmoid'))\n",
        "model.summary()"
      ],
      "metadata": {
        "execution": {
          "iopub.status.busy": "2022-12-07T20:14:24.533029Z",
          "iopub.execute_input": "2022-12-07T20:14:24.533613Z",
          "iopub.status.idle": "2022-12-07T20:14:24.744319Z",
          "shell.execute_reply.started": "2022-12-07T20:14:24.533584Z",
          "shell.execute_reply": "2022-12-07T20:14:24.743377Z"
        },
        "trusted": true,
        "id": "IKBJktdl5R4O",
        "outputId": "32135779-4435-420a-d669-5cc4dd417849"
      },
      "execution_count": null,
      "outputs": [
        {
          "name": "stdout",
          "text": "Model: \"sequential_1\"\n_________________________________________________________________\nLayer (type)                 Output Shape              Param #   \n=================================================================\nembedding_1 (Embedding)      (None, 300, 256)          31808768  \n_________________________________________________________________\nlstm_1 (LSTM)                (None, 64)                82176     \n_________________________________________________________________\ndropout_3 (Dropout)          (None, 64)                0         \n_________________________________________________________________\ndense_3 (Dense)              (None, 32)                2080      \n_________________________________________________________________\ndropout_4 (Dropout)          (None, 32)                0         \n_________________________________________________________________\ndense_4 (Dense)              (None, 1)                 33        \n=================================================================\nTotal params: 31,893,057\nTrainable params: 31,893,057\nNon-trainable params: 0\n_________________________________________________________________\n",
          "output_type": "stream"
        }
      ]
    },
    {
      "cell_type": "code",
      "source": [
        "model.compile(loss='binary_crossentropy', optimizer='adam', metrics='acc')"
      ],
      "metadata": {
        "execution": {
          "iopub.status.busy": "2022-12-07T20:14:27.567094Z",
          "iopub.execute_input": "2022-12-07T20:14:27.567442Z",
          "iopub.status.idle": "2022-12-07T20:14:27.578714Z",
          "shell.execute_reply.started": "2022-12-07T20:14:27.567417Z",
          "shell.execute_reply": "2022-12-07T20:14:27.577333Z"
        },
        "trusted": true,
        "id": "Q_ZYXKvt5R4O"
      },
      "execution_count": null,
      "outputs": []
    },
    {
      "cell_type": "code",
      "source": [
        "hist = model.fit(train_x, train_y, batch_size=40, epochs=5, validation_split=0.2)"
      ],
      "metadata": {
        "execution": {
          "iopub.status.busy": "2022-12-07T20:14:30.323622Z",
          "iopub.execute_input": "2022-12-07T20:14:30.324011Z",
          "iopub.status.idle": "2022-12-07T20:53:57.158959Z",
          "shell.execute_reply.started": "2022-12-07T20:14:30.323979Z",
          "shell.execute_reply": "2022-12-07T20:53:57.157818Z"
        },
        "trusted": true,
        "id": "ZyeFm5LD5R4O",
        "outputId": "140b836c-4197-46a6-9d2c-fb04c0ee7c7a"
      },
      "execution_count": null,
      "outputs": [
        {
          "name": "stdout",
          "text": "Epoch 1/5\n500/500 [==============================] - 472s 940ms/step - loss: 0.4249 - acc: 0.7990 - val_loss: 0.3056 - val_acc: 0.8712\nEpoch 2/5\n500/500 [==============================] - 497s 994ms/step - loss: 0.1843 - acc: 0.9354 - val_loss: 0.3907 - val_acc: 0.8604\nEpoch 3/5\n500/500 [==============================] - 470s 940ms/step - loss: 0.1097 - acc: 0.9613 - val_loss: 0.4238 - val_acc: 0.8514\nEpoch 4/5\n500/500 [==============================] - 465s 931ms/step - loss: 0.1397 - acc: 0.9470 - val_loss: 0.4945 - val_acc: 0.8564\nEpoch 5/5\n500/500 [==============================] - 463s 925ms/step - loss: 0.0722 - acc: 0.9768 - val_loss: 0.5477 - val_acc: 0.8624\n",
          "output_type": "stream"
        }
      ]
    },
    {
      "cell_type": "code",
      "source": [
        "res = model.predict(test)\n",
        "res"
      ],
      "metadata": {
        "execution": {
          "iopub.status.busy": "2022-12-07T21:24:51.812824Z",
          "iopub.execute_input": "2022-12-07T21:24:51.814179Z",
          "iopub.status.idle": "2022-12-07T21:27:56.736178Z",
          "shell.execute_reply.started": "2022-12-07T21:24:51.814119Z",
          "shell.execute_reply": "2022-12-07T21:27:56.734856Z"
        },
        "trusted": true,
        "id": "UcZl1Pkv5R4P",
        "outputId": "2ab2cdab-3daa-42e9-8fe8-4390a383357b"
      },
      "execution_count": null,
      "outputs": [
        {
          "execution_count": 18,
          "output_type": "execute_result",
          "data": {
            "text/plain": "array([[9.9981070e-01],\n       [1.8072128e-04],\n       [2.0793816e-01],\n       ...,\n       [6.8462214e-05],\n       [9.9034607e-01],\n       [4.8083961e-03]], dtype=float32)"
          },
          "metadata": {}
        }
      ]
    },
    {
      "cell_type": "code",
      "source": [
        "sub['sentiment'] = (res > 0.5) * 1\n",
        "sub.to_csv('res.csv', index=False)"
      ],
      "metadata": {
        "execution": {
          "iopub.status.busy": "2022-12-07T21:31:37.046191Z",
          "iopub.execute_input": "2022-12-07T21:31:37.046557Z",
          "iopub.status.idle": "2022-12-07T21:31:37.078142Z",
          "shell.execute_reply.started": "2022-12-07T21:31:37.046529Z",
          "shell.execute_reply": "2022-12-07T21:31:37.076795Z"
        },
        "trusted": true,
        "id": "onNc8eH65R4P"
      },
      "execution_count": null,
      "outputs": []
    },
    {
      "cell_type": "markdown",
      "source": [
        "## Bidirectional LSTM Model acc:0.847"
      ],
      "metadata": {
        "id": "4xtePWez5R4P"
      }
    },
    {
      "cell_type": "code",
      "source": [
        "model = Sequential()\n",
        "model.add(Embedding(len(tk.word_index)+1, 256, input_length=300))\n",
        "model.add(Bidirectional(LSTM(64, recurrent_dropout=0.1)))\n",
        "model.add(Dropout(0.25))\n",
        "model.add(Dense(32, activation='relu'))\n",
        "model.add(Dropout(0.25))\n",
        "model.add(Dense(1, activation='sigmoid'))\n",
        "model.summary()"
      ],
      "metadata": {
        "execution": {
          "iopub.status.busy": "2022-12-07T21:32:07.229193Z",
          "iopub.execute_input": "2022-12-07T21:32:07.229660Z",
          "iopub.status.idle": "2022-12-07T21:32:07.904426Z",
          "shell.execute_reply.started": "2022-12-07T21:32:07.229628Z",
          "shell.execute_reply": "2022-12-07T21:32:07.903185Z"
        },
        "trusted": true,
        "id": "rerQjmJg5R4P",
        "outputId": "11eb2c7c-1054-4e8b-b4f1-afddd060214d"
      },
      "execution_count": null,
      "outputs": [
        {
          "name": "stdout",
          "text": "Model: \"sequential_2\"\n_________________________________________________________________\nLayer (type)                 Output Shape              Param #   \n=================================================================\nembedding_2 (Embedding)      (None, 300, 256)          31808768  \n_________________________________________________________________\nbidirectional (Bidirectional (None, 128)               164352    \n_________________________________________________________________\ndropout_5 (Dropout)          (None, 128)               0         \n_________________________________________________________________\ndense_5 (Dense)              (None, 32)                4128      \n_________________________________________________________________\ndropout_6 (Dropout)          (None, 32)                0         \n_________________________________________________________________\ndense_6 (Dense)              (None, 1)                 33        \n=================================================================\nTotal params: 31,977,281\nTrainable params: 31,977,281\nNon-trainable params: 0\n_________________________________________________________________\n",
          "output_type": "stream"
        }
      ]
    },
    {
      "cell_type": "code",
      "source": [
        "model.compile(loss='binary_crossentropy', optimizer='adam', metrics='acc')"
      ],
      "metadata": {
        "execution": {
          "iopub.status.busy": "2022-12-07T21:32:16.863377Z",
          "iopub.execute_input": "2022-12-07T21:32:16.863794Z",
          "iopub.status.idle": "2022-12-07T21:32:16.873373Z",
          "shell.execute_reply.started": "2022-12-07T21:32:16.863761Z",
          "shell.execute_reply": "2022-12-07T21:32:16.872423Z"
        },
        "trusted": true,
        "id": "rHqyUZ4A5R4P"
      },
      "execution_count": null,
      "outputs": []
    },
    {
      "cell_type": "code",
      "source": [
        "hist = model.fit(train_x, train_y, batch_size=40, epochs=5, validation_split=0.2)"
      ],
      "metadata": {
        "execution": {
          "iopub.status.busy": "2022-12-07T21:32:18.654810Z",
          "iopub.execute_input": "2022-12-07T21:32:18.655134Z",
          "iopub.status.idle": "2022-12-07T22:43:05.159717Z",
          "shell.execute_reply.started": "2022-12-07T21:32:18.655110Z",
          "shell.execute_reply": "2022-12-07T22:43:05.158196Z"
        },
        "trusted": true,
        "id": "Zr44PtM35R4P",
        "outputId": "d2fac543-73ca-4e7b-b39c-f665bfa89181"
      },
      "execution_count": null,
      "outputs": [
        {
          "name": "stdout",
          "text": "Epoch 1/5\n500/500 [==============================] - 830s 2s/step - loss: 0.4680 - acc: 0.7831 - val_loss: 0.3659 - val_acc: 0.8486\nEpoch 2/5\n500/500 [==============================] - 845s 2s/step - loss: 0.2414 - acc: 0.9118 - val_loss: 0.3441 - val_acc: 0.8720\nEpoch 3/5\n500/500 [==============================] - 859s 2s/step - loss: 0.1299 - acc: 0.9558 - val_loss: 0.3945 - val_acc: 0.8482\nEpoch 4/5\n500/500 [==============================] - 834s 2s/step - loss: 0.0559 - acc: 0.9819 - val_loss: 0.4612 - val_acc: 0.8596\nEpoch 5/5\n500/500 [==============================] - 878s 2s/step - loss: 0.0290 - acc: 0.9909 - val_loss: 0.5711 - val_acc: 0.8558\n",
          "output_type": "stream"
        }
      ]
    },
    {
      "cell_type": "code",
      "source": [
        "res = model.predict(test)\n",
        "res"
      ],
      "metadata": {
        "execution": {
          "iopub.status.busy": "2022-12-07T22:49:30.759171Z",
          "iopub.execute_input": "2022-12-07T22:49:30.759544Z",
          "iopub.status.idle": "2022-12-07T22:55:42.117332Z",
          "shell.execute_reply.started": "2022-12-07T22:49:30.759512Z",
          "shell.execute_reply": "2022-12-07T22:55:42.116532Z"
        },
        "trusted": true,
        "id": "1wXzsNuq5R4Q",
        "outputId": "5d2eef5e-2d51-461d-8d00-a9a0ee3a8005"
      },
      "execution_count": null,
      "outputs": [
        {
          "execution_count": 23,
          "output_type": "execute_result",
          "data": {
            "text/plain": "array([[9.9999952e-01],\n       [7.3087358e-05],\n       [4.4102964e-01],\n       ...,\n       [2.5710464e-04],\n       [9.9315137e-01],\n       [6.7028403e-03]], dtype=float32)"
          },
          "metadata": {}
        }
      ]
    },
    {
      "cell_type": "code",
      "source": [
        "sub['sentiment'] = (res > 0.5) * 1\n",
        "sub.to_csv('res.csv', index=False)"
      ],
      "metadata": {
        "execution": {
          "iopub.status.busy": "2022-12-07T22:55:53.641094Z",
          "iopub.execute_input": "2022-12-07T22:55:53.641416Z",
          "iopub.status.idle": "2022-12-07T22:55:53.685204Z",
          "shell.execute_reply.started": "2022-12-07T22:55:53.641391Z",
          "shell.execute_reply": "2022-12-07T22:55:53.684147Z"
        },
        "trusted": true,
        "id": "ZxkuE6TM5R4Q"
      },
      "execution_count": null,
      "outputs": []
    }
  ]
}